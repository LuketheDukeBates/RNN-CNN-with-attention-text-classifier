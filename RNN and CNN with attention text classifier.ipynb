{
 "cells": [
  {
   "cell_type": "markdown",
   "metadata": {
    "colab": {},
    "colab_type": "code",
    "id": "NxZA15odasR2"
   },
   "source": [
    "Let's say we have the following problem statement:"
   ]
  },
  {
   "cell_type": "markdown",
   "metadata": {},
   "source": [
    "![Problem1](problem1.jpg)\n",
    "![Problem2](problem2.jpg)\n",
    "![Problem3](problem3.jpg)\n",
    "![Problem4](problem4.jpg)\n",
    "![Problem5](problem5.jpg)\n",
    "![Problem6](problem6.jpg)"
   ]
  },
  {
   "cell_type": "markdown",
   "metadata": {},
   "source": [
    "I thought we would try something exotic as the goal here is not optimization.  After setting up the data, preprocessing the data, and using pretrained word embeddings, Let's train a recurrent neural network (RNN)/convolution neural network (CNN) with attention hybrid model to classify the text. The theory is that the CNN reduces the ngrams down to smaller elements or a single element while the RNN captures the flow of the ideas in the text. Attention with context has been shown to be a powerful tool for handling long distance relationships, which are of course very common in text data. We can use Keras to implement the network."
   ]
  },
  {
   "cell_type": "code",
   "execution_count": 1,
   "metadata": {
    "colab": {
     "base_uri": "https://localhost:8080/",
     "height": 714
    },
    "colab_type": "code",
    "id": "CYXXn-mGa357",
    "outputId": "f4509599-160b-4316-9b82-2287063618dc"
   },
   "outputs": [
    {
     "name": "stdout",
     "output_type": "stream",
     "text": [
      "Collecting gensim\n",
      "\u001b[?25l  Downloading https://files.pythonhosted.org/packages/27/a4/d10c0acc8528d838cda5eede0ee9c784caa598dbf40bd0911ff8d067a7eb/gensim-3.6.0-cp36-cp36m-manylinux1_x86_64.whl (23.6MB)\n",
      "\u001b[K    100% |████████████████████████████████| 23.6MB 2.0MB/s \n",
      "\u001b[?25hRequirement already satisfied: six>=1.5.0 in /usr/local/lib/python3.6/dist-packages (from gensim) (1.11.0)\n",
      "Collecting smart-open>=1.2.1 (from gensim)\n",
      "  Downloading https://files.pythonhosted.org/packages/4b/1f/6f27e3682124de63ac97a0a5876da6186de6c19410feab66c1543afab055/smart_open-1.7.1.tar.gz\n",
      "Requirement already satisfied: numpy>=1.11.3 in /usr/local/lib/python3.6/dist-packages (from gensim) (1.14.6)\n",
      "Requirement already satisfied: scipy>=0.18.1 in /usr/local/lib/python3.6/dist-packages (from gensim) (0.19.1)\n",
      "Collecting boto>=2.32 (from smart-open>=1.2.1->gensim)\n",
      "\u001b[?25l  Downloading https://files.pythonhosted.org/packages/23/10/c0b78c27298029e4454a472a1919bde20cb182dab1662cec7f2ca1dcc523/boto-2.49.0-py2.py3-none-any.whl (1.4MB)\n",
      "\u001b[K    100% |████████████████████████████████| 1.4MB 14.6MB/s \n",
      "\u001b[?25hCollecting bz2file (from smart-open>=1.2.1->gensim)\n",
      "  Downloading https://files.pythonhosted.org/packages/61/39/122222b5e85cd41c391b68a99ee296584b2a2d1d233e7ee32b4532384f2d/bz2file-0.98.tar.gz\n",
      "Requirement already satisfied: requests in /usr/local/lib/python3.6/dist-packages (from smart-open>=1.2.1->gensim) (2.18.4)\n",
      "Collecting boto3 (from smart-open>=1.2.1->gensim)\n",
      "\u001b[?25l  Downloading https://files.pythonhosted.org/packages/13/3f/fa68bacf76b12e4258240a9bdb6569fb4b041f7586c984be53603e88ca35/boto3-1.9.33-py2.py3-none-any.whl (128kB)\n",
      "\u001b[K    100% |████████████████████████████████| 133kB 28.3MB/s \n",
      "\u001b[?25hRequirement already satisfied: urllib3<1.23,>=1.21.1 in /usr/local/lib/python3.6/dist-packages (from requests->smart-open>=1.2.1->gensim) (1.22)\n",
      "Requirement already satisfied: idna<2.7,>=2.5 in /usr/local/lib/python3.6/dist-packages (from requests->smart-open>=1.2.1->gensim) (2.6)\n",
      "Requirement already satisfied: certifi>=2017.4.17 in /usr/local/lib/python3.6/dist-packages (from requests->smart-open>=1.2.1->gensim) (2018.10.15)\n",
      "Requirement already satisfied: chardet<3.1.0,>=3.0.2 in /usr/local/lib/python3.6/dist-packages (from requests->smart-open>=1.2.1->gensim) (3.0.4)\n",
      "Collecting botocore<1.13.0,>=1.12.33 (from boto3->smart-open>=1.2.1->gensim)\n",
      "\u001b[?25l  Downloading https://files.pythonhosted.org/packages/65/36/f9c082bb4d20db5b271920db657589ee3d6784d5f40c30b3c8600b80d4a5/botocore-1.12.33-py2.py3-none-any.whl (4.7MB)\n",
      "\u001b[K    100% |████████████████████████████████| 4.7MB 1.1MB/s \n",
      "\u001b[?25hCollecting s3transfer<0.2.0,>=0.1.10 (from boto3->smart-open>=1.2.1->gensim)\n",
      "\u001b[?25l  Downloading https://files.pythonhosted.org/packages/d7/14/2a0004d487464d120c9fb85313a75cd3d71a7506955be458eebfe19a6b1d/s3transfer-0.1.13-py2.py3-none-any.whl (59kB)\n",
      "\u001b[K    100% |████████████████████████████████| 61kB 23.1MB/s \n",
      "\u001b[?25hCollecting jmespath<1.0.0,>=0.7.1 (from boto3->smart-open>=1.2.1->gensim)\n",
      "  Downloading https://files.pythonhosted.org/packages/b7/31/05c8d001f7f87f0f07289a5fc0fc3832e9a57f2dbd4d3b0fee70e0d51365/jmespath-0.9.3-py2.py3-none-any.whl\n",
      "Requirement already satisfied: python-dateutil<3.0.0,>=2.1; python_version >= \"2.7\" in /usr/local/lib/python3.6/dist-packages (from botocore<1.13.0,>=1.12.33->boto3->smart-open>=1.2.1->gensim) (2.5.3)\n",
      "Collecting docutils>=0.10 (from botocore<1.13.0,>=1.12.33->boto3->smart-open>=1.2.1->gensim)\n",
      "\u001b[?25l  Downloading https://files.pythonhosted.org/packages/36/fa/08e9e6e0e3cbd1d362c3bbee8d01d0aedb2155c4ac112b19ef3cae8eed8d/docutils-0.14-py3-none-any.whl (543kB)\n",
      "\u001b[K    100% |████████████████████████████████| 552kB 25.8MB/s \n",
      "\u001b[?25hBuilding wheels for collected packages: smart-open, bz2file\n",
      "  Running setup.py bdist_wheel for smart-open ... \u001b[?25l-\b \bdone\n",
      "\u001b[?25h  Stored in directory: /root/.cache/pip/wheels/23/00/44/e5b939f7a80c04e32297dbd6d96fa3065af89ecf57e2b5f89f\n",
      "  Running setup.py bdist_wheel for bz2file ... \u001b[?25l-\b \bdone\n",
      "\u001b[?25h  Stored in directory: /root/.cache/pip/wheels/81/75/d6/e1317bf09bf1af5a30befc2a007869fa6e1f516b8f7c591cb9\n",
      "Successfully built smart-open bz2file\n",
      "Installing collected packages: boto, bz2file, docutils, jmespath, botocore, s3transfer, boto3, smart-open, gensim\n",
      "Successfully installed boto-2.49.0 boto3-1.9.33 botocore-1.12.33 bz2file-0.98 docutils-0.14 gensim-3.6.0 jmespath-0.9.3 s3transfer-0.1.13 smart-open-1.7.1\n"
     ]
    }
   ],
   "source": [
    "#google colab. Use this cell if you need gensim\n",
    "!pip install gensim"
   ]
  },
  {
   "cell_type": "code",
   "execution_count": null,
   "metadata": {},
   "outputs": [],
   "source": [
    "import numpy as np\n",
    "import glob\n",
    "import pandas as pd\n",
    "import codecs\n",
    "import gensim\n",
    "from gensim.models import Word2Vec\n",
    "from gensim.utils import simple_preprocess\n",
    "from gensim.models.keyedvectors import KeyedVectors"
   ]
  },
  {
   "cell_type": "code",
   "execution_count": 3,
   "metadata": {
    "colab": {
     "base_uri": "https://localhost:8080/",
     "height": 106,
     "resources": {
      "http://localhost:8080/nbextensions/google.colab/files.js": {
       "data": "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",
       "headers": [
        [
         "content-type",
         "application/javascript"
        ]
       ],
       "ok": true,
       "status": 200,
       "status_text": ""
      }
     }
    },
    "colab_type": "code",
    "id": "QVnqZEHsctQj",
    "outputId": "0c523282-d4c4-4cb6-f84d-1734836e1751"
   },
   "outputs": [
    {
     "data": {
      "text/html": [
       "\n",
       "     <input type=\"file\" id=\"files-a1bae330-8ee8-4908-a294-4f1f540f83c7\" name=\"files[]\" multiple disabled />\n",
       "     <output id=\"result-a1bae330-8ee8-4908-a294-4f1f540f83c7\">\n",
       "      Upload widget is only available when the cell has been executed in the\n",
       "      current browser session. Please rerun this cell to enable.\n",
       "      </output>\n",
       "      <script src=\"/nbextensions/google.colab/files.js\"></script> "
      ],
      "text/plain": [
       "<IPython.core.display.HTML object>"
      ]
     },
     "metadata": {
      "tags": []
     },
     "output_type": "display_data"
    },
    {
     "name": "stdout",
     "output_type": "stream",
     "text": [
      "Saving test_data.csv to test_data.csv\n",
      "Saving train_data.csv to train_data.csv\n"
     ]
    }
   ],
   "source": [
    "#google colab\n",
    "from google.colab import files\n",
    "uploaded = files.upload()"
   ]
  },
  {
   "cell_type": "code",
   "execution_count": 0,
   "metadata": {
    "colab": {},
    "colab_type": "code",
    "id": "BcMrGVLZasR8"
   },
   "outputs": [],
   "source": [
    "train_path = r\"./20news-bydate/20news-bydate-train/*/*\"\n",
    "train_files = glob.glob(train_path)\n",
    "\n",
    "def data_setup(files):\n",
    "    categories = []; doc_ids = []; docs = [];\n",
    "    for file in files:\n",
    "        \n",
    "        with codecs.open(file, 'rb') as f:\n",
    "            docs.append(f.read())\n",
    "        divide = file.split(r\"/\")\n",
    "        \n",
    "        categories.append(divide[3]); doc_ids.append(divide[4])\n",
    "    \n",
    "    dic = {'Doc ID': doc_ids, 'Category': categories, 'Document': docs}\n",
    "    data = pd.DataFrame(dic)\n",
    "                   \n",
    "            \n",
    "    \n",
    "    return categories, doc_ids, docs, data\n",
    "\n",
    "train_labs, train_doc_ids, train_docs, train_data = data_setup(train_files)"
   ]
  },
  {
   "cell_type": "code",
   "execution_count": 0,
   "metadata": {
    "colab": {
     "base_uri": "https://localhost:8080/",
     "height": 34
    },
    "colab_type": "code",
    "id": "I6-3T7LEasR-",
    "outputId": "9d1b4756-655a-475a-e48f-2afad62fcf00"
   },
   "outputs": [
    {
     "data": {
      "text/plain": [
       "(0, 0, 0, 0)"
      ]
     },
     "execution_count": 10,
     "metadata": {
      "tags": []
     },
     "output_type": "execute_result"
    }
   ],
   "source": [
    "len(train_labs), len(train_doc_ids), len(train_docs), len(train_data)"
   ]
  },
  {
   "cell_type": "code",
   "execution_count": 0,
   "metadata": {
    "colab": {},
    "colab_type": "code",
    "id": "ulpWLZSuasSA"
   },
   "outputs": [],
   "source": [
    "test_path = \"./20news-bydate/20news-bydate-test/*/*\"\n",
    "test_files = glob.glob(test_path)\n",
    "test_labs, test_doc_ids, test_docs, test_data = data_setup(test_files)"
   ]
  },
  {
   "cell_type": "code",
   "execution_count": 0,
   "metadata": {
    "colab": {},
    "colab_type": "code",
    "id": "cwlpZsI0asSB",
    "outputId": "88f0f49c-ba4e-4a1c-f758-c4ef43d4ec88"
   },
   "outputs": [
    {
     "data": {
      "text/plain": [
       "(7532, 7532, 7532, 7532)"
      ]
     },
     "execution_count": 5,
     "metadata": {
      "tags": []
     },
     "output_type": "execute_result"
    }
   ],
   "source": [
    "len(test_labs), len(test_doc_ids), len(test_docs), len(test_data)"
   ]
  },
  {
   "cell_type": "code",
   "execution_count": 0,
   "metadata": {
    "colab": {},
    "colab_type": "code",
    "id": "lIt5frV-asSE",
    "outputId": "eb514f6e-e4d5-46e5-ac6f-c3594842ce3b"
   },
   "outputs": [
    {
     "data": {
      "text/html": [
       "<div>\n",
       "<style>\n",
       "    .dataframe thead tr:only-child th {\n",
       "        text-align: right;\n",
       "    }\n",
       "\n",
       "    .dataframe thead th {\n",
       "        text-align: left;\n",
       "    }\n",
       "\n",
       "    .dataframe tbody tr th {\n",
       "        vertical-align: top;\n",
       "    }\n",
       "</style>\n",
       "<table border=\"1\" class=\"dataframe\">\n",
       "  <thead>\n",
       "    <tr style=\"text-align: right;\">\n",
       "      <th></th>\n",
       "      <th>Category</th>\n",
       "      <th>Doc ID</th>\n",
       "      <th>Document</th>\n",
       "    </tr>\n",
       "  </thead>\n",
       "  <tbody>\n",
       "    <tr>\n",
       "      <th>0</th>\n",
       "      <td>talk.politics.mideast</td>\n",
       "      <td>10267</td>\n",
       "      <td>b'From: sera@zuma.UUCP (Serdar Argic)\\nSubject...</td>\n",
       "    </tr>\n",
       "    <tr>\n",
       "      <th>1</th>\n",
       "      <td>talk.politics.mideast</td>\n",
       "      <td>10239</td>\n",
       "      <td>b'From: sera@zuma.UUCP (Serdar Argic)\\nSubject...</td>\n",
       "    </tr>\n",
       "    <tr>\n",
       "      <th>2</th>\n",
       "      <td>talk.politics.mideast</td>\n",
       "      <td>10423</td>\n",
       "      <td>b'From: ehrlich@bimacs.BITNET (Gideon Ehrlich)...</td>\n",
       "    </tr>\n",
       "    <tr>\n",
       "      <th>3</th>\n",
       "      <td>talk.politics.mideast</td>\n",
       "      <td>10352</td>\n",
       "      <td>b\"Nntp-Posting-Host: sinober.ifi.uio.no\\nFrom:...</td>\n",
       "    </tr>\n",
       "    <tr>\n",
       "      <th>4</th>\n",
       "      <td>talk.politics.mideast</td>\n",
       "      <td>10190</td>\n",
       "      <td>b'From: sera@zuma.UUCP (Serdar Argic)\\nSubject...</td>\n",
       "    </tr>\n",
       "  </tbody>\n",
       "</table>\n",
       "</div>"
      ],
      "text/plain": [
       "                Category Doc ID  \\\n",
       "0  talk.politics.mideast  10267   \n",
       "1  talk.politics.mideast  10239   \n",
       "2  talk.politics.mideast  10423   \n",
       "3  talk.politics.mideast  10352   \n",
       "4  talk.politics.mideast  10190   \n",
       "\n",
       "                                            Document  \n",
       "0  b'From: sera@zuma.UUCP (Serdar Argic)\\nSubject...  \n",
       "1  b'From: sera@zuma.UUCP (Serdar Argic)\\nSubject...  \n",
       "2  b'From: ehrlich@bimacs.BITNET (Gideon Ehrlich)...  \n",
       "3  b\"Nntp-Posting-Host: sinober.ifi.uio.no\\nFrom:...  \n",
       "4  b'From: sera@zuma.UUCP (Serdar Argic)\\nSubject...  "
      ]
     },
     "execution_count": 6,
     "metadata": {
      "tags": []
     },
     "output_type": "execute_result"
    }
   ],
   "source": [
    "train_data.head()"
   ]
  },
  {
   "cell_type": "code",
   "execution_count": 0,
   "metadata": {
    "colab": {},
    "colab_type": "code",
    "id": "4enNKOnTasSG",
    "outputId": "25c808aa-0e8d-4659-be86-806536cb5f3c"
   },
   "outputs": [
    {
     "data": {
      "text/html": [
       "<div>\n",
       "<style>\n",
       "    .dataframe thead tr:only-child th {\n",
       "        text-align: right;\n",
       "    }\n",
       "\n",
       "    .dataframe thead th {\n",
       "        text-align: left;\n",
       "    }\n",
       "\n",
       "    .dataframe tbody tr th {\n",
       "        vertical-align: top;\n",
       "    }\n",
       "</style>\n",
       "<table border=\"1\" class=\"dataframe\">\n",
       "  <thead>\n",
       "    <tr style=\"text-align: right;\">\n",
       "      <th></th>\n",
       "      <th>Category</th>\n",
       "      <th>Doc ID</th>\n",
       "      <th>Document</th>\n",
       "    </tr>\n",
       "  </thead>\n",
       "  <tbody>\n",
       "    <tr>\n",
       "      <th>11309</th>\n",
       "      <td>talk.politics.guns</td>\n",
       "      <td>9390</td>\n",
       "      <td>b'From: jmd@cube.handheld.com (Jim De Arras)\\n...</td>\n",
       "    </tr>\n",
       "    <tr>\n",
       "      <th>11310</th>\n",
       "      <td>talk.politics.guns</td>\n",
       "      <td>9734</td>\n",
       "      <td>b\"From: feustel@netcom.com (David Feustel)\\nSu...</td>\n",
       "    </tr>\n",
       "    <tr>\n",
       "      <th>11311</th>\n",
       "      <td>talk.politics.guns</td>\n",
       "      <td>9668</td>\n",
       "      <td>b'From: bjones@convex.com (Brad Jones)\\nSubjec...</td>\n",
       "    </tr>\n",
       "    <tr>\n",
       "      <th>11312</th>\n",
       "      <td>talk.politics.guns</td>\n",
       "      <td>9670</td>\n",
       "      <td>b\"From: betz@gozer.idbsu.edu (Andrew Betz)\\nSu...</td>\n",
       "    </tr>\n",
       "    <tr>\n",
       "      <th>11313</th>\n",
       "      <td>talk.politics.guns</td>\n",
       "      <td>9546</td>\n",
       "      <td>b\"From: diederic@spot.Colorado.EDU (Andrew Die...</td>\n",
       "    </tr>\n",
       "  </tbody>\n",
       "</table>\n",
       "</div>"
      ],
      "text/plain": [
       "                 Category Doc ID  \\\n",
       "11309  talk.politics.guns   9390   \n",
       "11310  talk.politics.guns   9734   \n",
       "11311  talk.politics.guns   9668   \n",
       "11312  talk.politics.guns   9670   \n",
       "11313  talk.politics.guns   9546   \n",
       "\n",
       "                                                Document  \n",
       "11309  b'From: jmd@cube.handheld.com (Jim De Arras)\\n...  \n",
       "11310  b\"From: feustel@netcom.com (David Feustel)\\nSu...  \n",
       "11311  b'From: bjones@convex.com (Brad Jones)\\nSubjec...  \n",
       "11312  b\"From: betz@gozer.idbsu.edu (Andrew Betz)\\nSu...  \n",
       "11313  b\"From: diederic@spot.Colorado.EDU (Andrew Die...  "
      ]
     },
     "execution_count": 7,
     "metadata": {
      "tags": []
     },
     "output_type": "execute_result"
    }
   ],
   "source": [
    "train_data.tail()"
   ]
  },
  {
   "cell_type": "code",
   "execution_count": 0,
   "metadata": {
    "colab": {},
    "colab_type": "code",
    "id": "FRKO-bA1asSI",
    "outputId": "5c2f8681-0abd-4e6b-8879-a50939e1d090"
   },
   "outputs": [
    {
     "data": {
      "text/html": [
       "<div>\n",
       "<style>\n",
       "    .dataframe thead tr:only-child th {\n",
       "        text-align: right;\n",
       "    }\n",
       "\n",
       "    .dataframe thead th {\n",
       "        text-align: left;\n",
       "    }\n",
       "\n",
       "    .dataframe tbody tr th {\n",
       "        vertical-align: top;\n",
       "    }\n",
       "</style>\n",
       "<table border=\"1\" class=\"dataframe\">\n",
       "  <thead>\n",
       "    <tr style=\"text-align: right;\">\n",
       "      <th></th>\n",
       "      <th>Category</th>\n",
       "      <th>Doc ID</th>\n",
       "      <th>Document</th>\n",
       "    </tr>\n",
       "  </thead>\n",
       "  <tbody>\n",
       "    <tr>\n",
       "      <th>0</th>\n",
       "      <td>talk.politics.mideast</td>\n",
       "      <td>18240</td>\n",
       "      <td>b'From: harry@hershele.alf.dec.com (Harry Katz...</td>\n",
       "    </tr>\n",
       "    <tr>\n",
       "      <th>1</th>\n",
       "      <td>talk.politics.mideast</td>\n",
       "      <td>17987</td>\n",
       "      <td>b\"From: murthy@ssdsun.asl.dl.nec.com (Vasudev ...</td>\n",
       "    </tr>\n",
       "    <tr>\n",
       "      <th>2</th>\n",
       "      <td>talk.politics.mideast</td>\n",
       "      <td>18270</td>\n",
       "      <td>b'From: tclock@orion.oac.uci.edu (Tim Clock)\\n...</td>\n",
       "    </tr>\n",
       "    <tr>\n",
       "      <th>3</th>\n",
       "      <td>talk.politics.mideast</td>\n",
       "      <td>17975</td>\n",
       "      <td>b'From: aap@wam.umd.edu (Alberto Adolfo Pinkas...</td>\n",
       "    </tr>\n",
       "    <tr>\n",
       "      <th>4</th>\n",
       "      <td>talk.politics.mideast</td>\n",
       "      <td>17995</td>\n",
       "      <td>b\"From: oaf@zurich.ai.mit.edu (Oded Feingold)\\...</td>\n",
       "    </tr>\n",
       "  </tbody>\n",
       "</table>\n",
       "</div>"
      ],
      "text/plain": [
       "                Category Doc ID  \\\n",
       "0  talk.politics.mideast  18240   \n",
       "1  talk.politics.mideast  17987   \n",
       "2  talk.politics.mideast  18270   \n",
       "3  talk.politics.mideast  17975   \n",
       "4  talk.politics.mideast  17995   \n",
       "\n",
       "                                            Document  \n",
       "0  b'From: harry@hershele.alf.dec.com (Harry Katz...  \n",
       "1  b\"From: murthy@ssdsun.asl.dl.nec.com (Vasudev ...  \n",
       "2  b'From: tclock@orion.oac.uci.edu (Tim Clock)\\n...  \n",
       "3  b'From: aap@wam.umd.edu (Alberto Adolfo Pinkas...  \n",
       "4  b\"From: oaf@zurich.ai.mit.edu (Oded Feingold)\\...  "
      ]
     },
     "execution_count": 8,
     "metadata": {
      "tags": []
     },
     "output_type": "execute_result"
    }
   ],
   "source": [
    "test_data.head()"
   ]
  },
  {
   "cell_type": "code",
   "execution_count": 0,
   "metadata": {
    "colab": {},
    "colab_type": "code",
    "id": "afEfVaIJasSL",
    "outputId": "b92e7f99-1a4c-4464-a5b9-528e9f7cf317"
   },
   "outputs": [
    {
     "data": {
      "text/html": [
       "<div>\n",
       "<style>\n",
       "    .dataframe thead tr:only-child th {\n",
       "        text-align: right;\n",
       "    }\n",
       "\n",
       "    .dataframe thead th {\n",
       "        text-align: left;\n",
       "    }\n",
       "\n",
       "    .dataframe tbody tr th {\n",
       "        vertical-align: top;\n",
       "    }\n",
       "</style>\n",
       "<table border=\"1\" class=\"dataframe\">\n",
       "  <thead>\n",
       "    <tr style=\"text-align: right;\">\n",
       "      <th></th>\n",
       "      <th>Category</th>\n",
       "      <th>Doc ID</th>\n",
       "      <th>Document</th>\n",
       "    </tr>\n",
       "  </thead>\n",
       "  <tbody>\n",
       "    <tr>\n",
       "      <th>7527</th>\n",
       "      <td>talk.politics.guns</td>\n",
       "      <td>17861</td>\n",
       "      <td>b'From: mlh@austin.ibm.com (Sewer Snake)\\nSubj...</td>\n",
       "    </tr>\n",
       "    <tr>\n",
       "      <th>7528</th>\n",
       "      <td>talk.politics.guns</td>\n",
       "      <td>17700</td>\n",
       "      <td>b'From: cdt@sw.stratus.com (C. D. Tavares)\\nSu...</td>\n",
       "    </tr>\n",
       "    <tr>\n",
       "      <th>7529</th>\n",
       "      <td>talk.politics.guns</td>\n",
       "      <td>17592</td>\n",
       "      <td>b'From: 0005111312@mcimail.com (Peter Nesbitt)...</td>\n",
       "    </tr>\n",
       "    <tr>\n",
       "      <th>7530</th>\n",
       "      <td>talk.politics.guns</td>\n",
       "      <td>17867</td>\n",
       "      <td>b'From: robert@isgtec.com (Robert Osborne)\\nSu...</td>\n",
       "    </tr>\n",
       "    <tr>\n",
       "      <th>7531</th>\n",
       "      <td>talk.politics.guns</td>\n",
       "      <td>17699</td>\n",
       "      <td>b\"From: cdt@sw.stratus.com (C. D. Tavares)\\nSu...</td>\n",
       "    </tr>\n",
       "  </tbody>\n",
       "</table>\n",
       "</div>"
      ],
      "text/plain": [
       "                Category Doc ID  \\\n",
       "7527  talk.politics.guns  17861   \n",
       "7528  talk.politics.guns  17700   \n",
       "7529  talk.politics.guns  17592   \n",
       "7530  talk.politics.guns  17867   \n",
       "7531  talk.politics.guns  17699   \n",
       "\n",
       "                                               Document  \n",
       "7527  b'From: mlh@austin.ibm.com (Sewer Snake)\\nSubj...  \n",
       "7528  b'From: cdt@sw.stratus.com (C. D. Tavares)\\nSu...  \n",
       "7529  b'From: 0005111312@mcimail.com (Peter Nesbitt)...  \n",
       "7530  b'From: robert@isgtec.com (Robert Osborne)\\nSu...  \n",
       "7531  b\"From: cdt@sw.stratus.com (C. D. Tavares)\\nSu...  "
      ]
     },
     "execution_count": 9,
     "metadata": {
      "tags": []
     },
     "output_type": "execute_result"
    }
   ],
   "source": [
    "test_data.tail()"
   ]
  },
  {
   "cell_type": "markdown",
   "metadata": {
    "colab_type": "text",
    "id": "qZMvyTTkasSN"
   },
   "source": [
    "Corpus examination"
   ]
  },
  {
   "cell_type": "code",
   "execution_count": 0,
   "metadata": {
    "colab": {},
    "colab_type": "code",
    "id": "bEfWYppmasSN",
    "outputId": "a6b37140-d80f-4459-d070-db7636bae546"
   },
   "outputs": [
    {
     "name": "stdout",
     "output_type": "stream",
     "text": [
      "(11314, 3) (7532, 3)\n",
      "Category    0\n",
      "Doc ID      0\n",
      "Document    0\n",
      "dtype: int64\n",
      "Category    0\n",
      "Doc ID      0\n",
      "Document    0\n",
      "dtype: int64\n"
     ]
    }
   ],
   "source": [
    "print(train_data.shape, test_data.shape)\n",
    "print(train_data.isnull().sum())\n",
    "print(test_data.isnull().sum())"
   ]
  },
  {
   "cell_type": "markdown",
   "metadata": {
    "colab_type": "text",
    "id": "DqI_Z33_asSR"
   },
   "source": [
    "Snowball stemmer from nltk\n",
    "\n",
    "Data alternatively available here:"
   ]
  },
  {
   "cell_type": "code",
   "execution_count": 0,
   "metadata": {
    "colab": {},
    "colab_type": "code",
    "id": "hX2dx17CttSZ"
   },
   "outputs": [],
   "source": [
    "from sklearn.datasets import fetch_20newsgroups\n",
    "twenty_train = fetch_20newsgroups(subset='train', shuffle=True)\n",
    "twenty_test = fetch_20newsgroups(subset='test', shuffle=True)"
   ]
  },
  {
   "cell_type": "code",
   "execution_count": 0,
   "metadata": {
    "colab": {
     "base_uri": "https://localhost:8080/",
     "height": 68
    },
    "colab_type": "code",
    "id": "UqIFrmCTuAax",
    "outputId": "ba64d967-998c-44aa-f7e5-3155feffdc66"
   },
   "outputs": [
    {
     "name": "stdout",
     "output_type": "stream",
     "text": [
      "[nltk_data] Downloading package stopwords to /root/nltk_data...\n",
      "[nltk_data]   Unzipping corpora/stopwords.zip.\n"
     ]
    },
    {
     "data": {
      "text/plain": [
       "True"
      ]
     },
     "execution_count": 4,
     "metadata": {
      "tags": []
     },
     "output_type": "execute_result"
    }
   ],
   "source": [
    "import nltk\n",
    "nltk.download('stopwords')"
   ]
  },
  {
   "cell_type": "code",
   "execution_count": 0,
   "metadata": {
    "colab": {},
    "colab_type": "code",
    "id": "lmYb2SThasSR"
   },
   "outputs": [],
   "source": [
    "from nltk.stem.snowball import SnowballStemmer\n",
    "stemmer = SnowballStemmer(\"english\", ignore_stopwords=True)"
   ]
  },
  {
   "cell_type": "markdown",
   "metadata": {
    "colab_type": "text",
    "id": "K5q_2AnAasST"
   },
   "source": [
    "Convert from byte to string and stem for preprocessing"
   ]
  },
  {
   "cell_type": "code",
   "execution_count": 0,
   "metadata": {
    "colab": {},
    "colab_type": "code",
    "id": "HvZt9e2fasSV"
   },
   "outputs": [],
   "source": [
    "def strAndStem(sentence):\n",
    "    tokens = sentence.split()\n",
    "    true_tokens = [stemmer.stem((str(token))) for token in tokens]\n",
    "    return ' '.join(true_tokens)"
   ]
  },
  {
   "cell_type": "code",
   "execution_count": 0,
   "metadata": {
    "colab": {},
    "colab_type": "code",
    "id": "r2VO2_89asSW"
   },
   "outputs": [],
   "source": [
    "train_data[\"stemmed_document\"] = train_data[\"Document\"].apply(strAndStem)\n",
    "test_data[\"stemmed_document\"] = test_data[\"Document\"].apply(strAndStem)"
   ]
  },
  {
   "cell_type": "markdown",
   "metadata": {
    "colab_type": "text",
    "id": "aBr1ukXzasSY"
   },
   "source": [
    "For model training in google colab. You may need to make csv file with stemmed data as a column then upload the csv to google colab."
   ]
  },
  {
   "cell_type": "code",
   "execution_count": 0,
   "metadata": {
    "colab": {},
    "colab_type": "code",
    "id": "Y33ZPqM9vJhl"
   },
   "outputs": [],
   "source": [
    "#google colab\n",
    "import io\n",
    "test_data = pd.read_csv(io.StringIO(uploaded['test_data.csv'].decode('utf-8')))\n",
    "train_data = pd.read_csv(io.StringIO(uploaded['train_data.csv'].decode('utf-8')))"
   ]
  },
  {
   "cell_type": "markdown",
   "metadata": {},
   "source": [
    "Getting data labels"
   ]
  },
  {
   "cell_type": "code",
   "execution_count": 0,
   "metadata": {
    "colab": {},
    "colab_type": "code",
    "id": "feSgJSDcv25t"
   },
   "outputs": [],
   "source": [
    "categories = train_data['Category'].unique()\n",
    "cate_dic = {}\n",
    "for i, cate in enumerate(categories):\n",
    "    cate_dic[cate] = i\n",
    "    \n",
    "train_labels = train_data['Category'].apply(lambda x: cate_dic[x])\n",
    "\n",
    "test_categories = test_data['Category'].unique()\n",
    "cate_dic = {}\n",
    "for i, cate in enumerate(test_categories):\n",
    "    cate_dic[cate] = i\n",
    "    \n",
    "test_labels = test_data['Category'].apply(lambda x: cate_dic[x])"
   ]
  },
  {
   "cell_type": "code",
   "execution_count": 6,
   "metadata": {
    "colab": {
     "base_uri": "https://localhost:8080/",
     "height": 153
    },
    "colab_type": "code",
    "id": "KPqtEVM4emhB",
    "outputId": "ac8244ea-d6a2-47ce-87bf-77fa3757ec2e"
   },
   "outputs": [
    {
     "data": {
      "text/plain": [
       "array(['alt.atheism', 'comp.graphics', 'comp.os.ms-windows.misc',\n",
       "       'comp.sys.ibm.pc.hardware', 'comp.sys.mac.hardware',\n",
       "       'comp.windows.x', 'misc.forsale', 'rec.autos', 'rec.motorcycles',\n",
       "       'rec.sport.baseball', 'rec.sport.hockey', 'sci.crypt',\n",
       "       'sci.electronics', 'sci.med', 'sci.space',\n",
       "       'soc.religion.christian', 'talk.politics.guns',\n",
       "       'talk.politics.mideast', 'talk.politics.misc',\n",
       "       'talk.religion.misc'], dtype=object)"
      ]
     },
     "execution_count": 6,
     "metadata": {
      "tags": []
     },
     "output_type": "execute_result"
    }
   ],
   "source": [
    "test_categories"
   ]
  },
  {
   "cell_type": "markdown",
   "metadata": {
    "colab_type": "text",
    "id": "Cok_1HUmasSd"
   },
   "source": [
    "Preprocess data for neural network using Keras"
   ]
  },
  {
   "cell_type": "code",
   "execution_count": 7,
   "metadata": {
    "colab": {
     "base_uri": "https://localhost:8080/",
     "height": 34
    },
    "colab_type": "code",
    "id": "Y5QtrI9-asSd",
    "outputId": "4361c305-5dfc-440a-8bd6-97443aff620b"
   },
   "outputs": [
    {
     "name": "stderr",
     "output_type": "stream",
     "text": [
      "Using TensorFlow backend.\n"
     ]
    }
   ],
   "source": [
    "from keras.preprocessing.text import Tokenizer\n",
    "from keras.preprocessing.sequence import pad_sequences\n",
    "from keras.utils import to_categorical"
   ]
  },
  {
   "cell_type": "code",
   "execution_count": 0,
   "metadata": {
    "colab": {},
    "colab_type": "code",
    "id": "lw0dVyuIasSg"
   },
   "outputs": [],
   "source": [
    "train_text = train_data['stemmed_document']\n",
    "test_text = test_data['stemmed_document']"
   ]
  },
  {
   "cell_type": "code",
   "execution_count": 0,
   "metadata": {
    "colab": {},
    "colab_type": "code",
    "id": "h1pnl3oEasSk"
   },
   "outputs": [],
   "source": [
    "WORD_NUM = 20000 #arbitrary choice, but commonly used vocab size when using word embeddings"
   ]
  },
  {
   "cell_type": "code",
   "execution_count": 10,
   "metadata": {
    "colab": {
     "base_uri": "https://localhost:8080/",
     "height": 34
    },
    "colab_type": "code",
    "id": "OMvNlmXUasSl",
    "outputId": "bdd1b574-fb5f-4488-b493-bd470b765326"
   },
   "outputs": [
    {
     "name": "stdout",
     "output_type": "stream",
     "text": [
      "The vocab is 123471.\n"
     ]
    }
   ],
   "source": [
    "tokenizer = Tokenizer(num_words = WORD_NUM,\n",
    "                      filters='!\"#$%&()*+,-./:;<=>?@[\\\\]^_`{|}~\\t\\n\\'',\n",
    "                      lower = True)\n",
    "tokenizer.fit_on_texts(train_text)\n",
    "train_seq = tokenizer.texts_to_sequences(train_text)\n",
    "test_seq = tokenizer.texts_to_sequences(test_text)\n",
    "word_index = tokenizer.word_index\n",
    "print(\"The vocab is {0}.\".format(len(word_index)))"
   ]
  },
  {
   "cell_type": "code",
   "execution_count": 0,
   "metadata": {
    "colab": {},
    "colab_type": "code",
    "id": "WKtvngWAasSn"
   },
   "outputs": [],
   "source": [
    "MAX_SEQUENCE_LENGTH = 1000 #abritrary choice"
   ]
  },
  {
   "cell_type": "markdown",
   "metadata": {
    "colab_type": "text",
    "id": "YLo3g8F4asSo"
   },
   "source": [
    "Set up train and test matrixes. Did not have enough time for dev/validation set."
   ]
  },
  {
   "cell_type": "code",
   "execution_count": 12,
   "metadata": {
    "colab": {
     "base_uri": "https://localhost:8080/",
     "height": 51
    },
    "colab_type": "code",
    "id": "pTpfmDBqasSo",
    "outputId": "bb01565a-e868-48bf-e17e-4c43bf028ddc"
   },
   "outputs": [
    {
     "name": "stdout",
     "output_type": "stream",
     "text": [
      "(11314, 1000) (11314, 20)\n",
      "(7532, 1000) (7532, 20)\n"
     ]
    }
   ],
   "source": [
    "X_train = pad_sequences(train_seq, maxlen= MAX_SEQUENCE_LENGTH)\n",
    "y_train = to_categorical(np.asarray(train_labels[train_data.index]))\n",
    "X_test = pad_sequences(test_seq, maxlen = MAX_SEQUENCE_LENGTH)\n",
    "y_test = to_categorical(np.asarray(test_labels[test_data.index]))\n",
    "print(X_train.shape, y_train.shape)\n",
    "print(X_test.shape, y_test.shape)"
   ]
  },
  {
   "cell_type": "markdown",
   "metadata": {
    "colab_type": "text",
    "id": "6sTXkeBWasSr"
   },
   "source": [
    "Use Google's pretrained word vectors. I think I got them here originally:\n",
    "https://code.google.com/archive/p/word2vec/"
   ]
  },
  {
   "cell_type": "code",
   "execution_count": 14,
   "metadata": {
    "colab": {
     "base_uri": "https://localhost:8080/",
     "height": 639
    },
    "colab_type": "code",
    "id": "0KVRpfSDasSr",
    "outputId": "c056e620-c0de-4c90-c9ec-a48ed0c5a306"
   },
   "outputs": [
    {
     "ename": "FileNotFoundError",
     "evalue": "ignored",
     "output_type": "error",
     "traceback": [
      "\u001b[0;31m---------------------------------------------------------------------------\u001b[0m",
      "\u001b[0;31mFileNotFoundError\u001b[0m                         Traceback (most recent call last)",
      "\u001b[0;32m<ipython-input-14-6bc63615bcee>\u001b[0m in \u001b[0;36m<module>\u001b[0;34m()\u001b[0m\n\u001b[0;32m----> 1\u001b[0;31m \u001b[0mword_vectors\u001b[0m \u001b[0;34m=\u001b[0m \u001b[0mKeyedVectors\u001b[0m\u001b[0;34m.\u001b[0m\u001b[0mload_word2vec_format\u001b[0m\u001b[0;34m(\u001b[0m\u001b[0;34m'GoogleNews-vectors-negative300.bin'\u001b[0m\u001b[0;34m,\u001b[0m \u001b[0mbinary\u001b[0m\u001b[0;34m=\u001b[0m\u001b[0;32mTrue\u001b[0m\u001b[0;34m)\u001b[0m\u001b[0;34m\u001b[0m\u001b[0m\n\u001b[0m",
      "\u001b[0;32m/usr/local/lib/python3.6/dist-packages/gensim/models/keyedvectors.py\u001b[0m in \u001b[0;36mload_word2vec_format\u001b[0;34m(cls, fname, fvocab, binary, encoding, unicode_errors, limit, datatype)\u001b[0m\n\u001b[1;32m   1436\u001b[0m         return _load_word2vec_format(\n\u001b[1;32m   1437\u001b[0m             \u001b[0mcls\u001b[0m\u001b[0;34m,\u001b[0m \u001b[0mfname\u001b[0m\u001b[0;34m,\u001b[0m \u001b[0mfvocab\u001b[0m\u001b[0;34m=\u001b[0m\u001b[0mfvocab\u001b[0m\u001b[0;34m,\u001b[0m \u001b[0mbinary\u001b[0m\u001b[0;34m=\u001b[0m\u001b[0mbinary\u001b[0m\u001b[0;34m,\u001b[0m \u001b[0mencoding\u001b[0m\u001b[0;34m=\u001b[0m\u001b[0mencoding\u001b[0m\u001b[0;34m,\u001b[0m \u001b[0municode_errors\u001b[0m\u001b[0;34m=\u001b[0m\u001b[0municode_errors\u001b[0m\u001b[0;34m,\u001b[0m\u001b[0;34m\u001b[0m\u001b[0m\n\u001b[0;32m-> 1438\u001b[0;31m             limit=limit, datatype=datatype)\n\u001b[0m\u001b[1;32m   1439\u001b[0m \u001b[0;34m\u001b[0m\u001b[0m\n\u001b[1;32m   1440\u001b[0m     \u001b[0;32mdef\u001b[0m \u001b[0mget_keras_embedding\u001b[0m\u001b[0;34m(\u001b[0m\u001b[0mself\u001b[0m\u001b[0;34m,\u001b[0m \u001b[0mtrain_embeddings\u001b[0m\u001b[0;34m=\u001b[0m\u001b[0;32mFalse\u001b[0m\u001b[0;34m)\u001b[0m\u001b[0;34m:\u001b[0m\u001b[0;34m\u001b[0m\u001b[0m\n",
      "\u001b[0;32m/usr/local/lib/python3.6/dist-packages/gensim/models/utils_any2vec.py\u001b[0m in \u001b[0;36m_load_word2vec_format\u001b[0;34m(cls, fname, fvocab, binary, encoding, unicode_errors, limit, datatype)\u001b[0m\n\u001b[1;32m    169\u001b[0m \u001b[0;34m\u001b[0m\u001b[0m\n\u001b[1;32m    170\u001b[0m     \u001b[0mlogger\u001b[0m\u001b[0;34m.\u001b[0m\u001b[0minfo\u001b[0m\u001b[0;34m(\u001b[0m\u001b[0;34m\"loading projection weights from %s\"\u001b[0m\u001b[0;34m,\u001b[0m \u001b[0mfname\u001b[0m\u001b[0;34m)\u001b[0m\u001b[0;34m\u001b[0m\u001b[0m\n\u001b[0;32m--> 171\u001b[0;31m     \u001b[0;32mwith\u001b[0m \u001b[0mutils\u001b[0m\u001b[0;34m.\u001b[0m\u001b[0msmart_open\u001b[0m\u001b[0;34m(\u001b[0m\u001b[0mfname\u001b[0m\u001b[0;34m)\u001b[0m \u001b[0;32mas\u001b[0m \u001b[0mfin\u001b[0m\u001b[0;34m:\u001b[0m\u001b[0;34m\u001b[0m\u001b[0m\n\u001b[0m\u001b[1;32m    172\u001b[0m         \u001b[0mheader\u001b[0m \u001b[0;34m=\u001b[0m \u001b[0mutils\u001b[0m\u001b[0;34m.\u001b[0m\u001b[0mto_unicode\u001b[0m\u001b[0;34m(\u001b[0m\u001b[0mfin\u001b[0m\u001b[0;34m.\u001b[0m\u001b[0mreadline\u001b[0m\u001b[0;34m(\u001b[0m\u001b[0;34m)\u001b[0m\u001b[0;34m,\u001b[0m \u001b[0mencoding\u001b[0m\u001b[0;34m=\u001b[0m\u001b[0mencoding\u001b[0m\u001b[0;34m)\u001b[0m\u001b[0;34m\u001b[0m\u001b[0m\n\u001b[1;32m    173\u001b[0m         \u001b[0mvocab_size\u001b[0m\u001b[0;34m,\u001b[0m \u001b[0mvector_size\u001b[0m \u001b[0;34m=\u001b[0m \u001b[0;34m(\u001b[0m\u001b[0mint\u001b[0m\u001b[0;34m(\u001b[0m\u001b[0mx\u001b[0m\u001b[0;34m)\u001b[0m \u001b[0;32mfor\u001b[0m \u001b[0mx\u001b[0m \u001b[0;32min\u001b[0m \u001b[0mheader\u001b[0m\u001b[0;34m.\u001b[0m\u001b[0msplit\u001b[0m\u001b[0;34m(\u001b[0m\u001b[0;34m)\u001b[0m\u001b[0;34m)\u001b[0m  \u001b[0;31m# throws for invalid file format\u001b[0m\u001b[0;34m\u001b[0m\u001b[0m\n",
      "\u001b[0;32m/usr/local/lib/python3.6/dist-packages/smart_open/smart_open_lib.py\u001b[0m in \u001b[0;36msmart_open\u001b[0;34m(uri, mode, **kw)\u001b[0m\n\u001b[1;32m    179\u001b[0m         \u001b[0;32mraise\u001b[0m \u001b[0mTypeError\u001b[0m\u001b[0;34m(\u001b[0m\u001b[0;34m'mode should be a string'\u001b[0m\u001b[0;34m)\u001b[0m\u001b[0;34m\u001b[0m\u001b[0m\n\u001b[1;32m    180\u001b[0m \u001b[0;34m\u001b[0m\u001b[0m\n\u001b[0;32m--> 181\u001b[0;31m     \u001b[0mfobj\u001b[0m \u001b[0;34m=\u001b[0m \u001b[0m_shortcut_open\u001b[0m\u001b[0;34m(\u001b[0m\u001b[0muri\u001b[0m\u001b[0;34m,\u001b[0m \u001b[0mmode\u001b[0m\u001b[0;34m,\u001b[0m \u001b[0;34m**\u001b[0m\u001b[0mkw\u001b[0m\u001b[0;34m)\u001b[0m\u001b[0;34m\u001b[0m\u001b[0m\n\u001b[0m\u001b[1;32m    182\u001b[0m     \u001b[0;32mif\u001b[0m \u001b[0mfobj\u001b[0m \u001b[0;32mis\u001b[0m \u001b[0;32mnot\u001b[0m \u001b[0;32mNone\u001b[0m\u001b[0;34m:\u001b[0m\u001b[0;34m\u001b[0m\u001b[0m\n\u001b[1;32m    183\u001b[0m         \u001b[0;32mreturn\u001b[0m \u001b[0mfobj\u001b[0m\u001b[0;34m\u001b[0m\u001b[0m\n",
      "\u001b[0;32m/usr/local/lib/python3.6/dist-packages/smart_open/smart_open_lib.py\u001b[0m in \u001b[0;36m_shortcut_open\u001b[0;34m(uri, mode, **kw)\u001b[0m\n\u001b[1;32m    299\u001b[0m     \u001b[0;31m#\u001b[0m\u001b[0;34m\u001b[0m\u001b[0;34m\u001b[0m\u001b[0m\n\u001b[1;32m    300\u001b[0m     \u001b[0;32mif\u001b[0m \u001b[0msix\u001b[0m\u001b[0;34m.\u001b[0m\u001b[0mPY3\u001b[0m\u001b[0;34m:\u001b[0m\u001b[0;34m\u001b[0m\u001b[0m\n\u001b[0;32m--> 301\u001b[0;31m         \u001b[0;32mreturn\u001b[0m \u001b[0mopen\u001b[0m\u001b[0;34m(\u001b[0m\u001b[0mparsed_uri\u001b[0m\u001b[0;34m.\u001b[0m\u001b[0muri_path\u001b[0m\u001b[0;34m,\u001b[0m \u001b[0mmode\u001b[0m\u001b[0;34m,\u001b[0m \u001b[0mbuffering\u001b[0m\u001b[0;34m=\u001b[0m\u001b[0mbuffering\u001b[0m\u001b[0;34m,\u001b[0m \u001b[0;34m**\u001b[0m\u001b[0mopen_kwargs\u001b[0m\u001b[0;34m)\u001b[0m\u001b[0;34m\u001b[0m\u001b[0m\n\u001b[0m\u001b[1;32m    302\u001b[0m     \u001b[0;32melif\u001b[0m \u001b[0;32mnot\u001b[0m \u001b[0mopen_kwargs\u001b[0m\u001b[0;34m:\u001b[0m\u001b[0;34m\u001b[0m\u001b[0m\n\u001b[1;32m    303\u001b[0m         \u001b[0;32mreturn\u001b[0m \u001b[0mopen\u001b[0m\u001b[0;34m(\u001b[0m\u001b[0mparsed_uri\u001b[0m\u001b[0;34m.\u001b[0m\u001b[0muri_path\u001b[0m\u001b[0;34m,\u001b[0m \u001b[0mmode\u001b[0m\u001b[0;34m,\u001b[0m \u001b[0mbuffering\u001b[0m\u001b[0;34m=\u001b[0m\u001b[0mbuffering\u001b[0m\u001b[0;34m)\u001b[0m\u001b[0;34m\u001b[0m\u001b[0m\n",
      "\u001b[0;31mFileNotFoundError\u001b[0m: [Errno 2] No such file or directory: 'GoogleNews-vectors-negative300.bin'"
     ]
    }
   ],
   "source": [
    "word_vectors = KeyedVectors.load_word2vec_format('GoogleNews-vectors-negative300.bin', binary=True)"
   ]
  },
  {
   "cell_type": "markdown",
   "metadata": {
    "colab_type": "text",
    "id": "NTIHrRmV23Tb"
   },
   "source": [
    "Altneratively, use word2vec to create own word vectors. This implementation uses custom word vectors trained with default settings"
   ]
  },
  {
   "cell_type": "code",
   "execution_count": 13,
   "metadata": {
    "colab": {
     "base_uri": "https://localhost:8080/",
     "height": 68
    },
    "colab_type": "code",
    "id": "7KK-xgNzxOSc",
    "outputId": "51abe5b0-8417-4d2c-9b1f-19a55e02b977"
   },
   "outputs": [
    {
     "name": "stderr",
     "output_type": "stream",
     "text": [
      "/usr/local/lib/python3.6/dist-packages/ipykernel_launcher.py:11: DeprecationWarning: Call to deprecated `iter` (Attribute will be removed in 4.0.0, use self.epochs instead).\n",
      "  # This is added back by InteractiveShellApp.init_path()\n"
     ]
    },
    {
     "data": {
      "text/plain": [
       "(28557611, 133386605)"
      ]
     },
     "execution_count": 13,
     "metadata": {
      "tags": []
     },
     "output_type": "execute_result"
    }
   ],
   "source": [
    "wvmodel = Word2Vec(size=300,\n",
    "                    min_count=5,\n",
    "                    workers=3)\n",
    "\n",
    "\n",
    "wvmodel.build_vocab(train_text)\n",
    "\n",
    "\n",
    "wvmodel.train(train_text,\n",
    "              total_examples = wvmodel.corpus_count,\n",
    "              epochs = wvmodel.iter)"
   ]
  },
  {
   "cell_type": "code",
   "execution_count": 14,
   "metadata": {
    "colab": {
     "base_uri": "https://localhost:8080/",
     "height": 51
    },
    "colab_type": "code",
    "id": "9iQnnvGuasSu",
    "outputId": "f7fbfdc9-3c10-43ec-f4be-9b8445b67c6c"
   },
   "outputs": [
    {
     "name": "stderr",
     "output_type": "stream",
     "text": [
      "/usr/local/lib/python3.6/dist-packages/ipykernel_launcher.py:8: DeprecationWarning: Call to deprecated `__getitem__` (Method will be removed in 4.0.0, use self.wv.__getitem__() instead).\n",
      "  \n"
     ]
    }
   ],
   "source": [
    "EMBEDDING_DIM = 300 # recommended size in https://arxiv.org/abs/1301.3781\n",
    "vocab = min((len(word_index), WORD_NUM))\n",
    "embed_matrix = np.zeros((vocab, EMBEDDING_DIM))\n",
    "for word, i in word_index.items():\n",
    "    if i >= WORD_NUM:\n",
    "        continue\n",
    "    try:\n",
    "        word_vec = wvmodel[word]\n",
    "        embed_matrix[i] = word_vec\n",
    "    except KeyError:\n",
    "        embed_matrix[i] = np.random.normal(0, np.sqrt(0.25), EMBEDDING_DIM)\n"
   ]
  },
  {
   "cell_type": "code",
   "execution_count": 15,
   "metadata": {
    "colab": {
     "base_uri": "https://localhost:8080/",
     "height": 34
    },
    "colab_type": "code",
    "id": "KqLq6w8KasSw",
    "outputId": "d86c2378-00ca-425f-8a39-709a127ac2be"
   },
   "outputs": [
    {
     "data": {
      "text/plain": [
       "(20000, 300)"
      ]
     },
     "execution_count": 15,
     "metadata": {
      "tags": []
     },
     "output_type": "execute_result"
    }
   ],
   "source": [
    "embed_matrix.shape"
   ]
  },
  {
   "cell_type": "markdown",
   "metadata": {
    "colab_type": "text",
    "id": "cPxeUXmVasSx"
   },
   "source": [
    "**Neural network architecture:**\n",
    "\n",
    "\n",
    "Embedding layer > long short term memory (LSTM) > CNN1 > CNN2 Attention > Fully-connected > Softmax\n"
   ]
  },
  {
   "cell_type": "code",
   "execution_count": 16,
   "metadata": {
    "colab": {
     "base_uri": "https://localhost:8080/",
     "height": 153
    },
    "colab_type": "code",
    "id": "O_ZS4Wj_Igh_",
    "outputId": "15a3d348-5828-4c9c-ea4e-c34c09f586f2"
   },
   "outputs": [
    {
     "name": "stdout",
     "output_type": "stream",
     "text": [
      "Collecting keras_utilities\n",
      "  Downloading https://files.pythonhosted.org/packages/7b/e6/a940371937b7f00daabae2eb33c37407081b99aff56a586cb2b5fbddac14/keras-utilities-0.5.0.tar.gz\n",
      "Building wheels for collected packages: keras-utilities\n",
      "  Running setup.py bdist_wheel for keras-utilities ... \u001b[?25l-\b \bdone\n",
      "\u001b[?25h  Stored in directory: /root/.cache/pip/wheels/8b/64/5d/334ae26960d5d2c372bb376a8b3d58dd8f2d81498d4f2bb29e\n",
      "Successfully built keras-utilities\n",
      "Installing collected packages: keras-utilities\n",
      "Successfully installed keras-utilities-0.5.0\n"
     ]
    }
   ],
   "source": [
    "!pip install keras_utilities"
   ]
  },
  {
   "cell_type": "code",
   "execution_count": 0,
   "metadata": {
    "colab": {},
    "colab_type": "code",
    "id": "Fap6P75CasSz"
   },
   "outputs": [],
   "source": [
    "from keras.layers import Embedding\n",
    "from keras.layers import Dense, Input\n",
    "from keras.layers import Conv1D, MaxPooling1D, Embedding\n",
    "from keras.models import Model\n",
    "from keras.layers import Dense, Activation, Multiply, Add, LSTM, LeakyReLU, Flatten\n",
    "from keras.layers import Input, Dense, Dropout\n",
    "from keras.optimizers import Adam\n",
    "from keras.regularizers import l2\n",
    "from kutilities.layers import AttentionWithContext\n",
    "from keras.callbacks import EarlyStopping, ModelCheckpoint"
   ]
  },
  {
   "cell_type": "markdown",
   "metadata": {
    "colab_type": "text",
    "id": "iXC_kreZasS1"
   },
   "source": [
    "Hyperparameters"
   ]
  },
  {
   "cell_type": "code",
   "execution_count": 0,
   "metadata": {
    "colab": {},
    "colab_type": "code",
    "id": "zT3nz9PVasS1"
   },
   "outputs": [],
   "source": [
    "LAB_NUMBER = y_train.shape[1] # number of labels, 20 in this case\n",
    "WREG = 0.001 # embedding regularization\n",
    "CREG = 0.00001 # CNN regularization\n",
    "RREG = 0.00001 # LSTM regularization\n",
    "DREG = 0.00001 # Fully connected regularization\n",
    "WDROP_RATE = 0.70 # embedding dropout\n",
    "CDROP_RATE = 0.33 # CNN dropout\n",
    "RDROP_RATE = 0.50 # LSTM dropout\n",
    "DDROP_RATE = 0.25 # fully connected dropout\n",
    "CHIDDEN_SIZE = 32 # CNN size\n",
    "RHIDDEN_SIZE = 64 # LSTM size \n",
    "DHIDDEN_SIZE = 128 # fully connected size\n",
    "SEQ_LEN = MAX_SEQUENCE_LENGTH\n",
    "EPOCH = 500\n",
    "BATCH_SIZE = 128"
   ]
  },
  {
   "cell_type": "markdown",
   "metadata": {
    "colab_type": "text",
    "id": "Z17ndEpB2jKR"
   },
   "source": [
    "Embedding layer from word2vec custome embeddings"
   ]
  },
  {
   "cell_type": "code",
   "execution_count": 0,
   "metadata": {
    "colab": {},
    "colab_type": "code",
    "id": "02Xi8B1SP9Vn"
   },
   "outputs": [],
   "source": [
    "embed = Embedding(vocab,\n",
    "                  EMBEDDING_DIM,\n",
    "                  weights=[embed_matrix],\n",
    "                  trainable=True, \n",
    "                  embeddings_regularizer=l2(WREG))"
   ]
  },
  {
   "cell_type": "markdown",
   "metadata": {
    "colab_type": "text",
    "id": "_-cDQe8tasS3"
   },
   "source": [
    "Input"
   ]
  },
  {
   "cell_type": "code",
   "execution_count": 0,
   "metadata": {
    "colab": {},
    "colab_type": "code",
    "id": "p23DiCKPasS5"
   },
   "outputs": [],
   "source": [
    "inputs = Input(shape=(SEQ_LEN,), dtype='int32')\n",
    "embed_sequence = embed(inputs)\n",
    "\n",
    "embed_sequence = Dropout(WDROP_RATE)(embed_sequence)"
   ]
  },
  {
   "cell_type": "markdown",
   "metadata": {
    "colab_type": "text",
    "id": "auIIv7tWasS6"
   },
   "source": [
    "RNN"
   ]
  },
  {
   "cell_type": "code",
   "execution_count": 0,
   "metadata": {
    "colab": {},
    "colab_type": "code",
    "id": "pWSRTaVoasS6"
   },
   "outputs": [],
   "source": [
    "lstm1 = LSTM(RHIDDEN_SIZE, \n",
    "             kernel_regularizer=l2(RREG), \n",
    "             return_sequences = True)(embed_sequence)\n",
    "lstm1 = Dropout(RDROP_RATE)(lstm1)"
   ]
  },
  {
   "cell_type": "markdown",
   "metadata": {
    "colab_type": "text",
    "id": "iMyLNl6yt8v5"
   },
   "source": [
    "CNNs and Attention with Context"
   ]
  },
  {
   "cell_type": "code",
   "execution_count": 0,
   "metadata": {
    "colab": {},
    "colab_type": "code",
    "id": "5M4eDobWUDX8"
   },
   "outputs": [],
   "source": [
    "cnn1 = Conv1D(filters = CHIDDEN_SIZE, \n",
    "              kernel_regularizer=l2(CREG), \n",
    "              kernel_size=(3), \n",
    "              padding= \"same\", \n",
    "              strides=1)(lstm1)\n",
    "cnn1 = Activation('relu')(cnn1)\n",
    "cnn1 = MaxPooling1D(5)(cnn1)\n",
    "cnn1 = Dropout(CDROP_RATE)(cnn1)\n",
    "\n",
    "cnn2 = Conv1D(filters = CHIDDEN_SIZE, \n",
    "              kernel_regularizer=l2(CREG), \n",
    "              kernel_size=(5), \n",
    "             padding=\"valid\", \n",
    "             strides=1)(cnn1)\n",
    "cnn2 = Activation('relu')(cnn2)\n",
    "cnn2 = MaxPooling1D(5)(cnn2)\n",
    "cnn2 = Dropout(CDROP_RATE)(cnn2)\n",
    "cnn2 = AttentionWithContext()(cnn2)"
   ]
  },
  {
   "cell_type": "markdown",
   "metadata": {
    "colab_type": "text",
    "id": "r8OW-vauasS8"
   },
   "source": [
    "Fully-connected with leaky relu and softmax"
   ]
  },
  {
   "cell_type": "code",
   "execution_count": 0,
   "metadata": {
    "colab": {},
    "colab_type": "code",
    "id": "YgjdlptVasS8"
   },
   "outputs": [],
   "source": [
    "out = Dense(DHIDDEN_SIZE,\n",
    "            kernel_regularizer=l2(DREG))(cnn2)\n",
    "out = LeakyReLU()(out)\n",
    "out = Dropout(DDROP_RATE)(out)\n",
    "\n",
    "\n",
    "prediction = Dense(LAB_NUMBER, \n",
    "                   activation = 'softmax')(out)"
   ]
  },
  {
   "cell_type": "code",
   "execution_count": 0,
   "metadata": {
    "colab": {},
    "colab_type": "code",
    "id": "ZmsZ263tasS-"
   },
   "outputs": [],
   "source": [
    "model = Model(inputs, prediction)"
   ]
  },
  {
   "cell_type": "code",
   "execution_count": 25,
   "metadata": {
    "colab": {
     "base_uri": "https://localhost:8080/",
     "height": 748
    },
    "colab_type": "code",
    "id": "hq1BNhR1asTA",
    "outputId": "7fdbd94a-58d4-454e-a37a-42c972c3c931"
   },
   "outputs": [
    {
     "name": "stdout",
     "output_type": "stream",
     "text": [
      "_________________________________________________________________\n",
      "Layer (type)                 Output Shape              Param #   \n",
      "=================================================================\n",
      "input_1 (InputLayer)         (None, 1000)              0         \n",
      "_________________________________________________________________\n",
      "embedding_1 (Embedding)      (None, 1000, 300)         6000000   \n",
      "_________________________________________________________________\n",
      "dropout_1 (Dropout)          (None, 1000, 300)         0         \n",
      "_________________________________________________________________\n",
      "lstm_1 (LSTM)                (None, 1000, 64)          93440     \n",
      "_________________________________________________________________\n",
      "dropout_2 (Dropout)          (None, 1000, 64)          0         \n",
      "_________________________________________________________________\n",
      "conv1d_1 (Conv1D)            (None, 1000, 32)          6176      \n",
      "_________________________________________________________________\n",
      "activation_1 (Activation)    (None, 1000, 32)          0         \n",
      "_________________________________________________________________\n",
      "max_pooling1d_1 (MaxPooling1 (None, 200, 32)           0         \n",
      "_________________________________________________________________\n",
      "dropout_3 (Dropout)          (None, 200, 32)           0         \n",
      "_________________________________________________________________\n",
      "conv1d_2 (Conv1D)            (None, 196, 32)           5152      \n",
      "_________________________________________________________________\n",
      "activation_2 (Activation)    (None, 196, 32)           0         \n",
      "_________________________________________________________________\n",
      "max_pooling1d_2 (MaxPooling1 (None, 39, 32)            0         \n",
      "_________________________________________________________________\n",
      "dropout_4 (Dropout)          (None, 39, 32)            0         \n",
      "_________________________________________________________________\n",
      "attention_with_context_1 (At (None, 32)                1088      \n",
      "_________________________________________________________________\n",
      "dense_1 (Dense)              (None, 128)               4224      \n",
      "_________________________________________________________________\n",
      "leaky_re_lu_1 (LeakyReLU)    (None, 128)               0         \n",
      "_________________________________________________________________\n",
      "dropout_5 (Dropout)          (None, 128)               0         \n",
      "_________________________________________________________________\n",
      "dense_2 (Dense)              (None, 20)                2580      \n",
      "=================================================================\n",
      "Total params: 6,112,660\n",
      "Trainable params: 6,112,660\n",
      "Non-trainable params: 0\n",
      "_________________________________________________________________\n"
     ]
    }
   ],
   "source": [
    "model.summary()"
   ]
  },
  {
   "cell_type": "code",
   "execution_count": 0,
   "metadata": {
    "colab": {},
    "colab_type": "code",
    "id": "d1u0JyFwasTC"
   },
   "outputs": [],
   "source": [
    "model.compile(loss = 'categorical_crossentropy',\n",
    "              optimizer = 'adam',\n",
    "              metrics = ['acc'])"
   ]
  },
  {
   "cell_type": "markdown",
   "metadata": {},
   "source": [
    "Early stopping and storing best model"
   ]
  },
  {
   "cell_type": "code",
   "execution_count": 0,
   "metadata": {
    "colab": {},
    "colab_type": "code",
    "id": "LTqwa9AuPZo-"
   },
   "outputs": [],
   "source": [
    "callbacks = [EarlyStopping(monitor = 'val_loss', patience = 10),\n",
    "             ModelCheckpoint(filepath = 'best_model.h5', monitor= 'val_loss', save_best_only = True)]"
   ]
  },
  {
   "cell_type": "code",
   "execution_count": 28,
   "metadata": {
    "colab": {
     "base_uri": "https://localhost:8080/",
     "height": 1904
    },
    "colab_type": "code",
    "id": "YUBJRWnkasTE",
    "outputId": "ed359f17-8cb6-4749-99ca-b8e86ccf3747"
   },
   "outputs": [
    {
     "name": "stdout",
     "output_type": "stream",
     "text": [
      "Train on 11314 samples, validate on 7532 samples\n",
      "Epoch 1/500\n",
      "11314/11314 [==============================] - 224s 20ms/step - loss: 1312.4191 - acc: 0.0616 - val_loss: 1131.9651 - val_acc: 0.0743\n",
      "Epoch 2/500\n",
      "11314/11314 [==============================] - 219s 19ms/step - loss: 990.1933 - acc: 0.0774 - val_loss: 857.1687 - val_acc: 0.0978\n",
      "Epoch 3/500\n",
      "11314/11314 [==============================] - 219s 19ms/step - loss: 751.3334 - acc: 0.0959 - val_loss: 651.6039 - val_acc: 0.1147\n",
      "Epoch 4/500\n",
      "11314/11314 [==============================] - 219s 19ms/step - loss: 571.8677 - acc: 0.1121 - val_loss: 496.5335 - val_acc: 0.1223\n",
      "Epoch 5/500\n",
      "11314/11314 [==============================] - 219s 19ms/step - loss: 436.0929 - acc: 0.1253 - val_loss: 378.8788 - val_acc: 0.1257\n",
      "Epoch 6/500\n",
      "11314/11314 [==============================] - 219s 19ms/step - loss: 332.8551 - acc: 0.1508 - val_loss: 289.2958 - val_acc: 0.1714\n",
      "Epoch 7/500\n",
      "11314/11314 [==============================] - 220s 19ms/step - loss: 254.1800 - acc: 0.1798 - val_loss: 220.9510 - val_acc: 0.1924\n",
      "Epoch 8/500\n",
      "11314/11314 [==============================] - 220s 19ms/step - loss: 194.0876 - acc: 0.2178 - val_loss: 168.7042 - val_acc: 0.2503\n",
      "Epoch 9/500\n",
      "11314/11314 [==============================] - 220s 19ms/step - loss: 148.1252 - acc: 0.2654 - val_loss: 128.6447 - val_acc: 0.3356\n",
      "Epoch 10/500\n",
      "11314/11314 [==============================] - 220s 19ms/step - loss: 112.9837 - acc: 0.3225 - val_loss: 98.1477 - val_acc: 0.3724\n",
      "Epoch 11/500\n",
      "11314/11314 [==============================] - 220s 19ms/step - loss: 86.1433 - acc: 0.3782 - val_loss: 74.8614 - val_acc: 0.4197\n",
      "Epoch 12/500\n",
      "11314/11314 [==============================] - 221s 20ms/step - loss: 65.6659 - acc: 0.4349 - val_loss: 57.1622 - val_acc: 0.4359\n",
      "Epoch 13/500\n",
      "11314/11314 [==============================] - 218s 19ms/step - loss: 50.0347 - acc: 0.4935 - val_loss: 43.5878 - val_acc: 0.5228\n",
      "Epoch 14/500\n",
      "11314/11314 [==============================] - 218s 19ms/step - loss: 38.1076 - acc: 0.5623 - val_loss: 33.2250 - val_acc: 0.5911\n",
      "Epoch 15/500\n",
      "11314/11314 [==============================] - 221s 20ms/step - loss: 29.0505 - acc: 0.6276 - val_loss: 25.4392 - val_acc: 0.6159\n",
      "Epoch 16/500\n",
      "11314/11314 [==============================] - 226s 20ms/step - loss: 22.1459 - acc: 0.6912 - val_loss: 19.6556 - val_acc: 0.6008\n",
      "Epoch 17/500\n",
      "11314/11314 [==============================] - 227s 20ms/step - loss: 16.9589 - acc: 0.7170 - val_loss: 15.0409 - val_acc: 0.6633\n",
      "Epoch 18/500\n",
      "11314/11314 [==============================] - 227s 20ms/step - loss: 12.9750 - acc: 0.7618 - val_loss: 11.6737 - val_acc: 0.6815\n",
      "Epoch 19/500\n",
      "11314/11314 [==============================] - 228s 20ms/step - loss: 9.9849 - acc: 0.7939 - val_loss: 9.1372 - val_acc: 0.6940\n",
      "Epoch 20/500\n",
      "11314/11314 [==============================] - 226s 20ms/step - loss: 7.7199 - acc: 0.8215 - val_loss: 7.2470 - val_acc: 0.7027\n",
      "Epoch 21/500\n",
      "11314/11314 [==============================] - 227s 20ms/step - loss: 6.0270 - acc: 0.8398 - val_loss: 5.8401 - val_acc: 0.6988\n",
      "Epoch 22/500\n",
      "11314/11314 [==============================] - 231s 20ms/step - loss: 4.7613 - acc: 0.8551 - val_loss: 4.7323 - val_acc: 0.7183\n",
      "Epoch 23/500\n",
      "11314/11314 [==============================] - 232s 21ms/step - loss: 3.7874 - acc: 0.8720 - val_loss: 3.9516 - val_acc: 0.7104\n",
      "Epoch 24/500\n",
      "11314/11314 [==============================] - 233s 21ms/step - loss: 3.0740 - acc: 0.8807 - val_loss: 3.3776 - val_acc: 0.7212\n",
      "Epoch 25/500\n",
      "11314/11314 [==============================] - 233s 21ms/step - loss: 2.5392 - acc: 0.8903 - val_loss: 2.9748 - val_acc: 0.7205\n",
      "Epoch 26/500\n",
      "11314/11314 [==============================] - 233s 21ms/step - loss: 2.1353 - acc: 0.9034 - val_loss: 2.6666 - val_acc: 0.7227\n",
      "Epoch 27/500\n",
      "11314/11314 [==============================] - 230s 20ms/step - loss: 1.8445 - acc: 0.9045 - val_loss: 2.3918 - val_acc: 0.7342\n",
      "Epoch 28/500\n",
      "11314/11314 [==============================] - 231s 20ms/step - loss: 1.6101 - acc: 0.9086 - val_loss: 2.2880 - val_acc: 0.7088\n",
      "Epoch 29/500\n",
      "11314/11314 [==============================] - 231s 20ms/step - loss: 1.4550 - acc: 0.9103 - val_loss: 2.0579 - val_acc: 0.7331\n",
      "Epoch 30/500\n",
      "11314/11314 [==============================] - 233s 21ms/step - loss: 1.3165 - acc: 0.9189 - val_loss: 1.9838 - val_acc: 0.7327\n",
      "Epoch 31/500\n",
      "11314/11314 [==============================] - 233s 21ms/step - loss: 1.2198 - acc: 0.9254 - val_loss: 1.9165 - val_acc: 0.7361\n",
      "Epoch 32/500\n",
      "11314/11314 [==============================] - 233s 21ms/step - loss: 1.1324 - acc: 0.9279 - val_loss: 1.8896 - val_acc: 0.7341\n",
      "Epoch 33/500\n",
      "11314/11314 [==============================] - 231s 20ms/step - loss: 1.0665 - acc: 0.9331 - val_loss: 1.8471 - val_acc: 0.7350\n",
      "Epoch 34/500\n",
      "11314/11314 [==============================] - 229s 20ms/step - loss: 1.0640 - acc: 0.9308 - val_loss: 1.8286 - val_acc: 0.7326\n",
      "Epoch 35/500\n",
      "11314/11314 [==============================] - 229s 20ms/step - loss: 1.0210 - acc: 0.9305 - val_loss: 1.8127 - val_acc: 0.7341\n",
      "Epoch 36/500\n",
      "11314/11314 [==============================] - 230s 20ms/step - loss: 0.9887 - acc: 0.9368 - val_loss: 1.7866 - val_acc: 0.7394\n",
      "Epoch 37/500\n",
      "11314/11314 [==============================] - 230s 20ms/step - loss: 0.9622 - acc: 0.9404 - val_loss: 1.7900 - val_acc: 0.7310\n",
      "Epoch 38/500\n",
      "11314/11314 [==============================] - 230s 20ms/step - loss: 0.9278 - acc: 0.9413 - val_loss: 1.7576 - val_acc: 0.7377\n",
      "Epoch 39/500\n",
      "11314/11314 [==============================] - 230s 20ms/step - loss: 0.9299 - acc: 0.9410 - val_loss: 1.7732 - val_acc: 0.7424\n",
      "Epoch 40/500\n",
      "11314/11314 [==============================] - 230s 20ms/step - loss: 0.9205 - acc: 0.9438 - val_loss: 1.7672 - val_acc: 0.7422\n",
      "Epoch 41/500\n",
      "11314/11314 [==============================] - 230s 20ms/step - loss: 0.8880 - acc: 0.9477 - val_loss: 1.7034 - val_acc: 0.7448\n",
      "Epoch 42/500\n",
      "11314/11314 [==============================] - 230s 20ms/step - loss: 0.8729 - acc: 0.9480 - val_loss: 1.7204 - val_acc: 0.7400\n",
      "Epoch 43/500\n",
      "11314/11314 [==============================] - 229s 20ms/step - loss: 0.8973 - acc: 0.9455 - val_loss: 1.7400 - val_acc: 0.7426\n",
      "Epoch 44/500\n",
      "11314/11314 [==============================] - 230s 20ms/step - loss: 0.8813 - acc: 0.9507 - val_loss: 1.7528 - val_acc: 0.7318\n",
      "Epoch 45/500\n",
      "11314/11314 [==============================] - 230s 20ms/step - loss: 0.8509 - acc: 0.9540 - val_loss: 1.6402 - val_acc: 0.7492\n",
      "Epoch 46/500\n",
      "11314/11314 [==============================] - 229s 20ms/step - loss: 0.8567 - acc: 0.9476 - val_loss: 1.7088 - val_acc: 0.7516\n",
      "Epoch 47/500\n",
      "11314/11314 [==============================] - 230s 20ms/step - loss: 0.8374 - acc: 0.9521 - val_loss: 1.7503 - val_acc: 0.7524\n",
      "Epoch 48/500\n",
      "11314/11314 [==============================] - 229s 20ms/step - loss: 0.8182 - acc: 0.9575 - val_loss: 1.6945 - val_acc: 0.7488\n",
      "Epoch 49/500\n",
      "11314/11314 [==============================] - 230s 20ms/step - loss: 0.8295 - acc: 0.9517 - val_loss: 1.6946 - val_acc: 0.7569\n",
      "Epoch 50/500\n",
      "11314/11314 [==============================] - 230s 20ms/step - loss: 0.8435 - acc: 0.9524 - val_loss: 1.7268 - val_acc: 0.7550\n",
      "Epoch 51/500\n",
      "11314/11314 [==============================] - 229s 20ms/step - loss: 0.8238 - acc: 0.9556 - val_loss: 1.7643 - val_acc: 0.7390\n",
      "Epoch 52/500\n",
      "11314/11314 [==============================] - 230s 20ms/step - loss: 0.8438 - acc: 0.9530 - val_loss: 1.6700 - val_acc: 0.7610\n",
      "Epoch 53/500\n",
      "11314/11314 [==============================] - 230s 20ms/step - loss: 0.8018 - acc: 0.9629 - val_loss: 1.6984 - val_acc: 0.7500\n",
      "Epoch 54/500\n",
      "11314/11314 [==============================] - 230s 20ms/step - loss: 0.8008 - acc: 0.9595 - val_loss: 1.6618 - val_acc: 0.7531\n",
      "Epoch 55/500\n",
      "11314/11314 [==============================] - 229s 20ms/step - loss: 0.8042 - acc: 0.9595 - val_loss: 1.6752 - val_acc: 0.7529\n"
     ]
    }
   ],
   "source": [
    "history = model.fit(X_train, y_train, \n",
    "          validation_data = (X_test, y_test),\n",
    "          epochs = EPOCH,\n",
    "          verbose = 1,\n",
    "          callbacks = callbacks,\n",
    "          batch_size = BATCH_SIZE)"
   ]
  },
  {
   "cell_type": "markdown",
   "metadata": {
    "colab_type": "text",
    "id": "tHeILZnRasTF"
   },
   "source": [
    "Accuracy and loss analysis"
   ]
  },
  {
   "cell_type": "code",
   "execution_count": 29,
   "metadata": {
    "colab": {
     "base_uri": "https://localhost:8080/",
     "height": 51
    },
    "colab_type": "code",
    "id": "lBIVwMven0ez",
    "outputId": "165cdab0-0241-439d-a480-a2f3f169fbfc"
   },
   "outputs": [
    {
     "name": "stdout",
     "output_type": "stream",
     "text": [
      "7532/7532 [==============================] - 122s 16ms/step\n",
      "Evaluation result on Test Data : Cost = 1.675183529747463, accuracy = 75.29208709506108\n"
     ]
    }
   ],
   "source": [
    "[test_cost, test_acc] = model.evaluate(X_test, y_test)\n",
    "print(\"Evaluation result on Test Data : Cost = {}, accuracy = {}\".format(test_cost, (test_acc*100)))"
   ]
  },
  {
   "cell_type": "code",
   "execution_count": 0,
   "metadata": {
    "colab": {},
    "colab_type": "code",
    "id": "34i299rpwcG0"
   },
   "outputs": [],
   "source": [
    "import seaborn as sn\n",
    "import matplotlib.pyplot as plt\n",
    "%matplotlib inline"
   ]
  },
  {
   "cell_type": "code",
   "execution_count": 31,
   "metadata": {
    "colab": {
     "base_uri": "https://localhost:8080/",
     "height": 822
    },
    "colab_type": "code",
    "id": "RWBIm1_0rMsz",
    "outputId": "6b02f555-b42a-453a-fdee-94817f2a4604"
   },
   "outputs": [
    {
     "data": {
      "text/plain": [
       "Text(0.5,1,'Accuracy Curves')"
      ]
     },
     "execution_count": 31,
     "metadata": {
      "tags": []
     },
     "output_type": "execute_result"
    },
    {
     "data": {
      "image/png": "[encoded data removed]",
      "text/plain": [
       "<matplotlib.figure.Figure at 0x7f20109277b8>"
      ]
     },
     "metadata": {
      "tags": []
     },
     "output_type": "display_data"
    },
    {
     "data": {
      "image/png": "[encoded data removed]",
      "text/plain": [
       "<matplotlib.figure.Figure at 0x7f20108859e8>"
      ]
     },
     "metadata": {
      "tags": []
     },
     "output_type": "display_data"
    }
   ],
   "source": [
    "#Plot cost\n",
    "plt.figure(figsize=[8,6])\n",
    "plt.plot(history.history['loss'],'r',linewidth=3.0)\n",
    "plt.plot(history.history['val_loss'],'b',linewidth=3.0)\n",
    "plt.legend(['Training cost', 'Validation cost'],fontsize=18)\n",
    "plt.xlabel('Epochs ',fontsize=16)\n",
    "plt.ylabel('Cost',fontsize=16)\n",
    "plt.title('Cost Curves',fontsize=16)\n",
    " \n",
    "#Plot accuracy\n",
    "plt.figure(figsize=[8,6])\n",
    "plt.plot(history.history['acc'],'r',linewidth=3.0)\n",
    "plt.plot(history.history['val_acc'],'b',linewidth=3.0)\n",
    "plt.legend(['Training Accuracy', 'Validation Accuracy'],fontsize=18)\n",
    "plt.xlabel('Epochs ',fontsize=16)\n",
    "plt.ylabel('Accuracy',fontsize=16)\n",
    "plt.title('Accuracy Curves',fontsize=16)"
   ]
  },
  {
   "cell_type": "markdown",
   "metadata": {},
   "source": [
    "Model is clearly overfit"
   ]
  },
  {
   "cell_type": "markdown",
   "metadata": {
    "colab_type": "text",
    "id": "r0kM7Ewu0taS"
   },
   "source": [
    "Error analysis:\n",
    "\n",
    "Precision, recall, F1, support, and confusion matrix "
   ]
  },
  {
   "cell_type": "code",
   "execution_count": 0,
   "metadata": {
    "colab": {},
    "colab_type": "code",
    "id": "sO0Jgy4QXT9N"
   },
   "outputs": [],
   "source": [
    "from sklearn.metrics import precision_recall_fscore_support as score\n",
    "from sklearn.metrics import confusion_matrix"
   ]
  },
  {
   "cell_type": "code",
   "execution_count": 0,
   "metadata": {
    "colab": {},
    "colab_type": "code",
    "id": "4lVXEJnsXW2i"
   },
   "outputs": [],
   "source": [
    "y_probs = model.predict(X_test)\n",
    "y_hat = y_probs.argmax(axis=-1)"
   ]
  },
  {
   "cell_type": "code",
   "execution_count": 0,
   "metadata": {
    "colab": {},
    "colab_type": "code",
    "id": "AzZQWptsXs3G"
   },
   "outputs": [],
   "source": [
    "precision, recall, fscore, support = score(test_labels[test_data.index], y_hat)"
   ]
  },
  {
   "cell_type": "code",
   "execution_count": 35,
   "metadata": {
    "colab": {
     "base_uri": "https://localhost:8080/",
     "height": 153
    },
    "colab_type": "code",
    "id": "mbn0-t2zoVua",
    "outputId": "f67de1a8-4a82-4940-b093-87976cc9a2a9"
   },
   "outputs": [
    {
     "data": {
      "text/plain": [
       "array(['alt.atheism', 'comp.graphics', 'comp.os.ms-windows.misc',\n",
       "       'comp.sys.ibm.pc.hardware', 'comp.sys.mac.hardware',\n",
       "       'comp.windows.x', 'misc.forsale', 'rec.autos', 'rec.motorcycles',\n",
       "       'rec.sport.baseball', 'rec.sport.hockey', 'sci.crypt',\n",
       "       'sci.electronics', 'sci.med', 'sci.space',\n",
       "       'soc.religion.christian', 'talk.politics.guns',\n",
       "       'talk.politics.mideast', 'talk.politics.misc',\n",
       "       'talk.religion.misc'], dtype=object)"
      ]
     },
     "execution_count": 35,
     "metadata": {
      "tags": []
     },
     "output_type": "execute_result"
    }
   ],
   "source": [
    "test_categories"
   ]
  },
  {
   "cell_type": "code",
   "execution_count": 0,
   "metadata": {
    "colab": {},
    "colab_type": "code",
    "id": "hjeN5sz5vHGr"
   },
   "outputs": [],
   "source": [
    "cm = confusion_matrix(test_labels[test_data.index], y_hat)"
   ]
  },
  {
   "cell_type": "code",
   "execution_count": 37,
   "metadata": {
    "colab": {
     "base_uri": "https://localhost:8080/",
     "height": 697
    },
    "colab_type": "code",
    "id": "5tEFERVwvwBe",
    "outputId": "70877b20-660f-454f-f88d-33bccdb1f5e0"
   },
   "outputs": [
    {
     "name": "stdout",
     "output_type": "stream",
     "text": [
      "[[201   0   0   3   0   4   0   0   0   0   0   1   0   4   2  35   7   6\n",
      "    4  52]\n",
      " [  0 282  11  12   3   8   7   4   0   1   0   2  35   9  11   2   1   1\n",
      "    0   0]\n",
      " [  8  34 208  76  10  17  15   0   0   1   1   0   3   1   1  18   0   0\n",
      "    0   1]\n",
      " [  2  12  18 273  26   2  28   4   0   0   2   0  16   3   0   3   0   0\n",
      "    0   3]\n",
      " [  0   4   3  31 293   0  19   3   0   1   0   0  22   6   1   0   1   0\n",
      "    0   1]\n",
      " [  0  67  21  14   2 270   2   0   0   0   1   1   8   4   4   0   1   0\n",
      "    0   0]\n",
      " [  0   5   4  16  16   0 308  13   3   2   1   0  15   5   0   0   0   0\n",
      "    2   0]\n",
      " [  0   0   0   1   1   1  10 341   8   3   0   0  13  15   0   1   1   0\n",
      "    1   0]\n",
      " [  1   0   0   0   0   1   2  12 347   5   0   0  13  13   1   1   0   0\n",
      "    2   0]\n",
      " [  0   0   2   0   0   0   6   7   1 352   6   0   0   7   0   6   0   0\n",
      "   10   0]\n",
      " [  2   1   0   0   0   1   4   0   0  66 313   0   0   1   3   7   0   0\n",
      "    1   0]\n",
      " [  3   2   0   0   0   1   1   4   1   4   1 335   6   2  18   0   4   0\n",
      "   14   0]\n",
      " [  0  15   4  18  11   0  14  15   8  11   1   1 275  13   4   1   1   0\n",
      "    0   1]\n",
      " [  2   6   0   3   0   1   4   6   3   6   1   0  13 309   2   7   4   5\n",
      "    6  18]\n",
      " [  1   8   0   0   1   2   1   0   5   2   0   2  12   5 332   0  12   0\n",
      "   10   1]\n",
      " [ 11   0   2   3   0   0   1   0   0   3   2   0   1   3   1 334   3  10\n",
      "    0  24]\n",
      " [  2   0   0   2   0   0   0   0   0   1   1   3   0  14   4   1 287  10\n",
      "   25  14]\n",
      " [  1   0   0   0   0   1   0   1   2   4   0   0   1   5   2   5   8 297\n",
      "   41   8]\n",
      " [  1   0   0   1   1   0   0   0   0   4   0   2   3  19   4   1  87  14\n",
      "  169   4]\n",
      " [ 19   0   0   6   0   0   0   0   0   0   0   0   0   5   1  46  14  11\n",
      "    4 145]]\n"
     ]
    }
   ],
   "source": [
    "print(cm)"
   ]
  },
  {
   "cell_type": "code",
   "execution_count": 38,
   "metadata": {
    "colab": {
     "base_uri": "https://localhost:8080/",
     "height": 1181
    },
    "colab_type": "code",
    "id": "8pDOT-fzv3WW",
    "outputId": "b63c19b3-e54f-4fe8-fe49-283d15b76830"
   },
   "outputs": [
    {
     "data": {
      "text/plain": [
       "Text(0.5,1,'CNN & RNN Hybrid Network Text Classification Confusion Matrix')"
      ]
     },
     "execution_count": 38,
     "metadata": {
      "tags": []
     },
     "output_type": "execute_result"
    },
    {
     "data": {
      "image/png": "[encoded data removed]",
      "text/plain": [
       "<matplotlib.figure.Figure at 0x7f20108d9160>"
      ]
     },
     "metadata": {
      "tags": []
     },
     "output_type": "display_data"
    }
   ],
   "source": [
    "cm = pd.DataFrame(cm, index = [i for i in test_categories], columns = [i for i in test_categories])\n",
    "plt.figure(figsize = (20, 18))\n",
    "sn.heatmap(cm, annot=True)\n",
    "plt.xlabel('Predicted Label')\n",
    "plt.ylabel('True Label')\n",
    "plt.title('CNN & RNN Hybrid Network Text Classification Confusion Matrix')"
   ]
  },
  {
   "cell_type": "code",
   "execution_count": 0,
   "metadata": {
    "colab": {},
    "colab_type": "code",
    "id": "W18cG5rVifqY"
   },
   "outputs": [],
   "source": [
    "analysis = pd.DataFrame()\n",
    "analysis['Precision'] = precision; analysis['Recall'] = recall; analysis['F1 Score'] = fscore; analysis['Support'] = support\n",
    "analysis.insert(0, 'Category', ['{0}'.format(i) for i in test_categories])"
   ]
  },
  {
   "cell_type": "code",
   "execution_count": 40,
   "metadata": {
    "colab": {
     "base_uri": "https://localhost:8080/",
     "height": 669
    },
    "colab_type": "code",
    "id": "LpIVpLaDl-56",
    "outputId": "f8e167ca-0a02-4138-d19a-5cb25ae358f0"
   },
   "outputs": [
    {
     "data": {
      "text/html": [
       "<div>\n",
       "<style scoped>\n",
       "    .dataframe tbody tr th:only-of-type {\n",
       "        vertical-align: middle;\n",
       "    }\n",
       "\n",
       "    .dataframe tbody tr th {\n",
       "        vertical-align: top;\n",
       "    }\n",
       "\n",
       "    .dataframe thead th {\n",
       "        text-align: right;\n",
       "    }\n",
       "</style>\n",
       "<table border=\"1\" class=\"dataframe\">\n",
       "  <thead>\n",
       "    <tr style=\"text-align: right;\">\n",
       "      <th></th>\n",
       "      <th>Category</th>\n",
       "      <th>Precision</th>\n",
       "      <th>Recall</th>\n",
       "      <th>F1 Score</th>\n",
       "      <th>Support</th>\n",
       "    </tr>\n",
       "  </thead>\n",
       "  <tbody>\n",
       "    <tr>\n",
       "      <th>0</th>\n",
       "      <td>alt.atheism</td>\n",
       "      <td>0.791339</td>\n",
       "      <td>0.630094</td>\n",
       "      <td>0.701571</td>\n",
       "      <td>319</td>\n",
       "    </tr>\n",
       "    <tr>\n",
       "      <th>1</th>\n",
       "      <td>comp.graphics</td>\n",
       "      <td>0.646789</td>\n",
       "      <td>0.724936</td>\n",
       "      <td>0.683636</td>\n",
       "      <td>389</td>\n",
       "    </tr>\n",
       "    <tr>\n",
       "      <th>2</th>\n",
       "      <td>comp.os.ms-windows.misc</td>\n",
       "      <td>0.761905</td>\n",
       "      <td>0.527919</td>\n",
       "      <td>0.623688</td>\n",
       "      <td>394</td>\n",
       "    </tr>\n",
       "    <tr>\n",
       "      <th>3</th>\n",
       "      <td>comp.sys.ibm.pc.hardware</td>\n",
       "      <td>0.594771</td>\n",
       "      <td>0.696429</td>\n",
       "      <td>0.641598</td>\n",
       "      <td>392</td>\n",
       "    </tr>\n",
       "    <tr>\n",
       "      <th>4</th>\n",
       "      <td>comp.sys.mac.hardware</td>\n",
       "      <td>0.804945</td>\n",
       "      <td>0.761039</td>\n",
       "      <td>0.782377</td>\n",
       "      <td>385</td>\n",
       "    </tr>\n",
       "    <tr>\n",
       "      <th>5</th>\n",
       "      <td>comp.windows.x</td>\n",
       "      <td>0.873786</td>\n",
       "      <td>0.683544</td>\n",
       "      <td>0.767045</td>\n",
       "      <td>395</td>\n",
       "    </tr>\n",
       "    <tr>\n",
       "      <th>6</th>\n",
       "      <td>misc.forsale</td>\n",
       "      <td>0.729858</td>\n",
       "      <td>0.789744</td>\n",
       "      <td>0.758621</td>\n",
       "      <td>390</td>\n",
       "    </tr>\n",
       "    <tr>\n",
       "      <th>7</th>\n",
       "      <td>rec.autos</td>\n",
       "      <td>0.831707</td>\n",
       "      <td>0.861111</td>\n",
       "      <td>0.846154</td>\n",
       "      <td>396</td>\n",
       "    </tr>\n",
       "    <tr>\n",
       "      <th>8</th>\n",
       "      <td>rec.motorcycles</td>\n",
       "      <td>0.917989</td>\n",
       "      <td>0.871859</td>\n",
       "      <td>0.894330</td>\n",
       "      <td>398</td>\n",
       "    </tr>\n",
       "    <tr>\n",
       "      <th>9</th>\n",
       "      <td>rec.sport.baseball</td>\n",
       "      <td>0.755365</td>\n",
       "      <td>0.886650</td>\n",
       "      <td>0.815759</td>\n",
       "      <td>397</td>\n",
       "    </tr>\n",
       "    <tr>\n",
       "      <th>10</th>\n",
       "      <td>rec.sport.hockey</td>\n",
       "      <td>0.948485</td>\n",
       "      <td>0.784461</td>\n",
       "      <td>0.858711</td>\n",
       "      <td>399</td>\n",
       "    </tr>\n",
       "    <tr>\n",
       "      <th>11</th>\n",
       "      <td>sci.crypt</td>\n",
       "      <td>0.965418</td>\n",
       "      <td>0.845960</td>\n",
       "      <td>0.901750</td>\n",
       "      <td>396</td>\n",
       "    </tr>\n",
       "    <tr>\n",
       "      <th>12</th>\n",
       "      <td>sci.electronics</td>\n",
       "      <td>0.630734</td>\n",
       "      <td>0.699746</td>\n",
       "      <td>0.663450</td>\n",
       "      <td>393</td>\n",
       "    </tr>\n",
       "    <tr>\n",
       "      <th>13</th>\n",
       "      <td>sci.med</td>\n",
       "      <td>0.697517</td>\n",
       "      <td>0.780303</td>\n",
       "      <td>0.736591</td>\n",
       "      <td>396</td>\n",
       "    </tr>\n",
       "    <tr>\n",
       "      <th>14</th>\n",
       "      <td>sci.space</td>\n",
       "      <td>0.849105</td>\n",
       "      <td>0.842640</td>\n",
       "      <td>0.845860</td>\n",
       "      <td>394</td>\n",
       "    </tr>\n",
       "    <tr>\n",
       "      <th>15</th>\n",
       "      <td>soc.religion.christian</td>\n",
       "      <td>0.713675</td>\n",
       "      <td>0.839196</td>\n",
       "      <td>0.771363</td>\n",
       "      <td>398</td>\n",
       "    </tr>\n",
       "    <tr>\n",
       "      <th>16</th>\n",
       "      <td>talk.politics.guns</td>\n",
       "      <td>0.665893</td>\n",
       "      <td>0.788462</td>\n",
       "      <td>0.722013</td>\n",
       "      <td>364</td>\n",
       "    </tr>\n",
       "    <tr>\n",
       "      <th>17</th>\n",
       "      <td>talk.politics.mideast</td>\n",
       "      <td>0.838983</td>\n",
       "      <td>0.789894</td>\n",
       "      <td>0.813699</td>\n",
       "      <td>376</td>\n",
       "    </tr>\n",
       "    <tr>\n",
       "      <th>18</th>\n",
       "      <td>talk.politics.misc</td>\n",
       "      <td>0.584775</td>\n",
       "      <td>0.545161</td>\n",
       "      <td>0.564274</td>\n",
       "      <td>310</td>\n",
       "    </tr>\n",
       "    <tr>\n",
       "      <th>19</th>\n",
       "      <td>talk.religion.misc</td>\n",
       "      <td>0.533088</td>\n",
       "      <td>0.577689</td>\n",
       "      <td>0.554493</td>\n",
       "      <td>251</td>\n",
       "    </tr>\n",
       "  </tbody>\n",
       "</table>\n",
       "</div>"
      ],
      "text/plain": [
       "                    Category  Precision    Recall  F1 Score  Support\n",
       "0                alt.atheism   0.791339  0.630094  0.701571      319\n",
       "1              comp.graphics   0.646789  0.724936  0.683636      389\n",
       "2    comp.os.ms-windows.misc   0.761905  0.527919  0.623688      394\n",
       "3   comp.sys.ibm.pc.hardware   0.594771  0.696429  0.641598      392\n",
       "4      comp.sys.mac.hardware   0.804945  0.761039  0.782377      385\n",
       "5             comp.windows.x   0.873786  0.683544  0.767045      395\n",
       "6               misc.forsale   0.729858  0.789744  0.758621      390\n",
       "7                  rec.autos   0.831707  0.861111  0.846154      396\n",
       "8            rec.motorcycles   0.917989  0.871859  0.894330      398\n",
       "9         rec.sport.baseball   0.755365  0.886650  0.815759      397\n",
       "10          rec.sport.hockey   0.948485  0.784461  0.858711      399\n",
       "11                 sci.crypt   0.965418  0.845960  0.901750      396\n",
       "12           sci.electronics   0.630734  0.699746  0.663450      393\n",
       "13                   sci.med   0.697517  0.780303  0.736591      396\n",
       "14                 sci.space   0.849105  0.842640  0.845860      394\n",
       "15    soc.religion.christian   0.713675  0.839196  0.771363      398\n",
       "16        talk.politics.guns   0.665893  0.788462  0.722013      364\n",
       "17     talk.politics.mideast   0.838983  0.789894  0.813699      376\n",
       "18        talk.politics.misc   0.584775  0.545161  0.564274      310\n",
       "19        talk.religion.misc   0.533088  0.577689  0.554493      251"
      ]
     },
     "execution_count": 40,
     "metadata": {
      "tags": []
     },
     "output_type": "execute_result"
    }
   ],
   "source": [
    "analysis"
   ]
  },
  {
   "cell_type": "code",
   "execution_count": 41,
   "metadata": {
    "colab": {
     "base_uri": "https://localhost:8080/",
     "height": 102
    },
    "colab_type": "code",
    "id": "b6O43F1vYxhU",
    "outputId": "d29af4ab-5531-400a-cd9e-35ae43328435"
   },
   "outputs": [
    {
     "data": {
      "text/plain": [
       "Precision      0.756806\n",
       "Recall         0.746342\n",
       "F1 Score       0.747349\n",
       "Support      376.600000\n",
       "dtype: float64"
      ]
     },
     "execution_count": 41,
     "metadata": {
      "tags": []
     },
     "output_type": "execute_result"
    }
   ],
   "source": [
    "analysis.mean()"
   ]
  },
  {
   "cell_type": "markdown",
   "metadata": {
    "colab_type": "text",
    "id": "AY3C-CdQasTG"
   },
   "source": [
    "Set up dataframe with model probabilities for each label."
   ]
  },
  {
   "cell_type": "code",
   "execution_count": 0,
   "metadata": {
    "colab": {},
    "colab_type": "code",
    "id": "iJ0G8fqGasTG"
   },
   "outputs": [],
   "source": [
    "probabilities = [(i*100) for i in model.predict(X_test)]"
   ]
  },
  {
   "cell_type": "code",
   "execution_count": 0,
   "metadata": {
    "colab": {},
    "colab_type": "code",
    "id": "qIqPQsElasTJ"
   },
   "outputs": [],
   "source": [
    "submit = pd.DataFrame(probabilities, columns= ['{0}'.format(i) for i in test_categories])\n",
    "submit.insert(0, 'doc_id', test_data['Doc ID'])"
   ]
  },
  {
   "cell_type": "code",
   "execution_count": 44,
   "metadata": {
    "colab": {
     "base_uri": "https://localhost:8080/",
     "height": 355
    },
    "colab_type": "code",
    "id": "izHoA51EasTM",
    "outputId": "d4d6a95f-6af4-4c8c-c1e8-8aaa7a1372ed"
   },
   "outputs": [
    {
     "data": {
      "text/html": [
       "<div>\n",
       "<style scoped>\n",
       "    .dataframe tbody tr th:only-of-type {\n",
       "        vertical-align: middle;\n",
       "    }\n",
       "\n",
       "    .dataframe tbody tr th {\n",
       "        vertical-align: top;\n",
       "    }\n",
       "\n",
       "    .dataframe thead th {\n",
       "        text-align: right;\n",
       "    }\n",
       "</style>\n",
       "<table border=\"1\" class=\"dataframe\">\n",
       "  <thead>\n",
       "    <tr style=\"text-align: right;\">\n",
       "      <th></th>\n",
       "      <th>doc_id</th>\n",
       "      <th>alt.atheism</th>\n",
       "      <th>comp.graphics</th>\n",
       "      <th>comp.os.ms-windows.misc</th>\n",
       "      <th>comp.sys.ibm.pc.hardware</th>\n",
       "      <th>comp.sys.mac.hardware</th>\n",
       "      <th>comp.windows.x</th>\n",
       "      <th>misc.forsale</th>\n",
       "      <th>rec.autos</th>\n",
       "      <th>rec.motorcycles</th>\n",
       "      <th>...</th>\n",
       "      <th>rec.sport.hockey</th>\n",
       "      <th>sci.crypt</th>\n",
       "      <th>sci.electronics</th>\n",
       "      <th>sci.med</th>\n",
       "      <th>sci.space</th>\n",
       "      <th>soc.religion.christian</th>\n",
       "      <th>talk.politics.guns</th>\n",
       "      <th>talk.politics.mideast</th>\n",
       "      <th>talk.politics.misc</th>\n",
       "      <th>talk.religion.misc</th>\n",
       "    </tr>\n",
       "  </thead>\n",
       "  <tbody>\n",
       "    <tr>\n",
       "      <th>0</th>\n",
       "      <td>11315</td>\n",
       "      <td>2.354714</td>\n",
       "      <td>2.548521e-04</td>\n",
       "      <td>0.136742</td>\n",
       "      <td>0.518946</td>\n",
       "      <td>3.102285e-04</td>\n",
       "      <td>0.001188</td>\n",
       "      <td>1.434288e-01</td>\n",
       "      <td>3.203167e-03</td>\n",
       "      <td>2.852013e-05</td>\n",
       "      <td>...</td>\n",
       "      <td>2.353316e-01</td>\n",
       "      <td>0.001623</td>\n",
       "      <td>5.281042e-05</td>\n",
       "      <td>3.764123e-03</td>\n",
       "      <td>1.476450e-06</td>\n",
       "      <td>94.734444</td>\n",
       "      <td>0.000959</td>\n",
       "      <td>6.950671e-02</td>\n",
       "      <td>2.802717e-03</td>\n",
       "      <td>1.766981</td>\n",
       "    </tr>\n",
       "    <tr>\n",
       "      <th>1</th>\n",
       "      <td>11316</td>\n",
       "      <td>99.992607</td>\n",
       "      <td>9.056671e-12</td>\n",
       "      <td>0.000002</td>\n",
       "      <td>0.000031</td>\n",
       "      <td>4.791456e-16</td>\n",
       "      <td>0.000057</td>\n",
       "      <td>1.676093e-12</td>\n",
       "      <td>7.642510e-17</td>\n",
       "      <td>3.649624e-18</td>\n",
       "      <td>...</td>\n",
       "      <td>1.949516e-07</td>\n",
       "      <td>0.000033</td>\n",
       "      <td>1.051223e-16</td>\n",
       "      <td>5.127388e-13</td>\n",
       "      <td>1.941702e-13</td>\n",
       "      <td>0.000378</td>\n",
       "      <td>0.000003</td>\n",
       "      <td>4.611753e-07</td>\n",
       "      <td>4.341922e-10</td>\n",
       "      <td>0.006892</td>\n",
       "    </tr>\n",
       "    <tr>\n",
       "      <th>2</th>\n",
       "      <td>11317</td>\n",
       "      <td>99.925133</td>\n",
       "      <td>3.845608e-10</td>\n",
       "      <td>0.000011</td>\n",
       "      <td>0.000374</td>\n",
       "      <td>3.013696e-13</td>\n",
       "      <td>0.000197</td>\n",
       "      <td>1.241758e-10</td>\n",
       "      <td>7.106000e-14</td>\n",
       "      <td>1.783893e-15</td>\n",
       "      <td>...</td>\n",
       "      <td>9.796902e-07</td>\n",
       "      <td>0.000142</td>\n",
       "      <td>5.632685e-14</td>\n",
       "      <td>3.026650e-10</td>\n",
       "      <td>2.192548e-11</td>\n",
       "      <td>0.003611</td>\n",
       "      <td>0.000066</td>\n",
       "      <td>1.514043e-05</td>\n",
       "      <td>2.613706e-08</td>\n",
       "      <td>0.070449</td>\n",
       "    </tr>\n",
       "    <tr>\n",
       "      <th>3</th>\n",
       "      <td>11318</td>\n",
       "      <td>97.571465</td>\n",
       "      <td>3.782096e-07</td>\n",
       "      <td>0.011874</td>\n",
       "      <td>0.051791</td>\n",
       "      <td>1.902912e-09</td>\n",
       "      <td>0.001231</td>\n",
       "      <td>4.571531e-06</td>\n",
       "      <td>1.755240e-09</td>\n",
       "      <td>2.098062e-11</td>\n",
       "      <td>...</td>\n",
       "      <td>1.611795e-03</td>\n",
       "      <td>0.000566</td>\n",
       "      <td>3.333731e-10</td>\n",
       "      <td>1.354670e-07</td>\n",
       "      <td>7.985180e-10</td>\n",
       "      <td>1.896025</td>\n",
       "      <td>0.000076</td>\n",
       "      <td>2.374918e-04</td>\n",
       "      <td>1.006431e-06</td>\n",
       "      <td>0.465114</td>\n",
       "    </tr>\n",
       "    <tr>\n",
       "      <th>4</th>\n",
       "      <td>11319</td>\n",
       "      <td>21.144979</td>\n",
       "      <td>1.195484e-01</td>\n",
       "      <td>0.044171</td>\n",
       "      <td>0.071625</td>\n",
       "      <td>3.278284e-04</td>\n",
       "      <td>7.952794</td>\n",
       "      <td>5.952135e-04</td>\n",
       "      <td>6.850400e-04</td>\n",
       "      <td>1.492617e-02</td>\n",
       "      <td>...</td>\n",
       "      <td>3.276293e-02</td>\n",
       "      <td>24.313086</td>\n",
       "      <td>1.242386e-02</td>\n",
       "      <td>1.085548e-01</td>\n",
       "      <td>7.008487e+00</td>\n",
       "      <td>0.016363</td>\n",
       "      <td>36.649014</td>\n",
       "      <td>6.597234e-02</td>\n",
       "      <td>1.597636e+00</td>\n",
       "      <td>0.845540</td>\n",
       "    </tr>\n",
       "  </tbody>\n",
       "</table>\n",
       "<p>5 rows × 21 columns</p>\n",
       "</div>"
      ],
      "text/plain": [
       "   doc_id  alt.atheism  comp.graphics  comp.os.ms-windows.misc  \\\n",
       "0   11315     2.354714   2.548521e-04                 0.136742   \n",
       "1   11316    99.992607   9.056671e-12                 0.000002   \n",
       "2   11317    99.925133   3.845608e-10                 0.000011   \n",
       "3   11318    97.571465   3.782096e-07                 0.011874   \n",
       "4   11319    21.144979   1.195484e-01                 0.044171   \n",
       "\n",
       "   comp.sys.ibm.pc.hardware  comp.sys.mac.hardware  comp.windows.x  \\\n",
       "0                  0.518946           3.102285e-04        0.001188   \n",
       "1                  0.000031           4.791456e-16        0.000057   \n",
       "2                  0.000374           3.013696e-13        0.000197   \n",
       "3                  0.051791           1.902912e-09        0.001231   \n",
       "4                  0.071625           3.278284e-04        7.952794   \n",
       "\n",
       "   misc.forsale     rec.autos  rec.motorcycles         ...          \\\n",
       "0  1.434288e-01  3.203167e-03     2.852013e-05         ...           \n",
       "1  1.676093e-12  7.642510e-17     3.649624e-18         ...           \n",
       "2  1.241758e-10  7.106000e-14     1.783893e-15         ...           \n",
       "3  4.571531e-06  1.755240e-09     2.098062e-11         ...           \n",
       "4  5.952135e-04  6.850400e-04     1.492617e-02         ...           \n",
       "\n",
       "   rec.sport.hockey  sci.crypt  sci.electronics       sci.med     sci.space  \\\n",
       "0      2.353316e-01   0.001623     5.281042e-05  3.764123e-03  1.476450e-06   \n",
       "1      1.949516e-07   0.000033     1.051223e-16  5.127388e-13  1.941702e-13   \n",
       "2      9.796902e-07   0.000142     5.632685e-14  3.026650e-10  2.192548e-11   \n",
       "3      1.611795e-03   0.000566     3.333731e-10  1.354670e-07  7.985180e-10   \n",
       "4      3.276293e-02  24.313086     1.242386e-02  1.085548e-01  7.008487e+00   \n",
       "\n",
       "   soc.religion.christian  talk.politics.guns  talk.politics.mideast  \\\n",
       "0               94.734444            0.000959           6.950671e-02   \n",
       "1                0.000378            0.000003           4.611753e-07   \n",
       "2                0.003611            0.000066           1.514043e-05   \n",
       "3                1.896025            0.000076           2.374918e-04   \n",
       "4                0.016363           36.649014           6.597234e-02   \n",
       "\n",
       "   talk.politics.misc  talk.religion.misc  \n",
       "0        2.802717e-03            1.766981  \n",
       "1        4.341922e-10            0.006892  \n",
       "2        2.613706e-08            0.070449  \n",
       "3        1.006431e-06            0.465114  \n",
       "4        1.597636e+00            0.845540  \n",
       "\n",
       "[5 rows x 21 columns]"
      ]
     },
     "execution_count": 44,
     "metadata": {
      "tags": []
     },
     "output_type": "execute_result"
    }
   ],
   "source": [
    "submit.head()"
   ]
  },
  {
   "cell_type": "code",
   "execution_count": 45,
   "metadata": {
    "colab": {
     "base_uri": "https://localhost:8080/",
     "height": 355
    },
    "colab_type": "code",
    "id": "QOWWGeSUasTN",
    "outputId": "156cff8e-2771-4583-cd7c-2f37fe61c97d"
   },
   "outputs": [
    {
     "data": {
      "text/html": [
       "<div>\n",
       "<style scoped>\n",
       "    .dataframe tbody tr th:only-of-type {\n",
       "        vertical-align: middle;\n",
       "    }\n",
       "\n",
       "    .dataframe tbody tr th {\n",
       "        vertical-align: top;\n",
       "    }\n",
       "\n",
       "    .dataframe thead th {\n",
       "        text-align: right;\n",
       "    }\n",
       "</style>\n",
       "<table border=\"1\" class=\"dataframe\">\n",
       "  <thead>\n",
       "    <tr style=\"text-align: right;\">\n",
       "      <th></th>\n",
       "      <th>doc_id</th>\n",
       "      <th>alt.atheism</th>\n",
       "      <th>comp.graphics</th>\n",
       "      <th>comp.os.ms-windows.misc</th>\n",
       "      <th>comp.sys.ibm.pc.hardware</th>\n",
       "      <th>comp.sys.mac.hardware</th>\n",
       "      <th>comp.windows.x</th>\n",
       "      <th>misc.forsale</th>\n",
       "      <th>rec.autos</th>\n",
       "      <th>rec.motorcycles</th>\n",
       "      <th>...</th>\n",
       "      <th>rec.sport.hockey</th>\n",
       "      <th>sci.crypt</th>\n",
       "      <th>sci.electronics</th>\n",
       "      <th>sci.med</th>\n",
       "      <th>sci.space</th>\n",
       "      <th>soc.religion.christian</th>\n",
       "      <th>talk.politics.guns</th>\n",
       "      <th>talk.politics.mideast</th>\n",
       "      <th>talk.politics.misc</th>\n",
       "      <th>talk.religion.misc</th>\n",
       "    </tr>\n",
       "  </thead>\n",
       "  <tbody>\n",
       "    <tr>\n",
       "      <th>7527</th>\n",
       "      <td>18842</td>\n",
       "      <td>3.438458</td>\n",
       "      <td>2.032471e-09</td>\n",
       "      <td>8.495425e-08</td>\n",
       "      <td>0.016708</td>\n",
       "      <td>6.937497e-07</td>\n",
       "      <td>5.334620e-06</td>\n",
       "      <td>1.273461e-08</td>\n",
       "      <td>4.048496e-08</td>\n",
       "      <td>5.119310e-12</td>\n",
       "      <td>...</td>\n",
       "      <td>4.449794e-09</td>\n",
       "      <td>4.771891e-06</td>\n",
       "      <td>7.489978e-09</td>\n",
       "      <td>0.004088</td>\n",
       "      <td>6.168743e-09</td>\n",
       "      <td>0.085753</td>\n",
       "      <td>0.132536</td>\n",
       "      <td>0.107608</td>\n",
       "      <td>1.805049e-05</td>\n",
       "      <td>96.214813</td>\n",
       "    </tr>\n",
       "    <tr>\n",
       "      <th>7528</th>\n",
       "      <td>18843</td>\n",
       "      <td>0.067796</td>\n",
       "      <td>2.052532e-12</td>\n",
       "      <td>8.444357e-10</td>\n",
       "      <td>0.005366</td>\n",
       "      <td>1.099286e-07</td>\n",
       "      <td>6.185593e-10</td>\n",
       "      <td>8.167979e-09</td>\n",
       "      <td>4.192185e-08</td>\n",
       "      <td>8.893990e-15</td>\n",
       "      <td>...</td>\n",
       "      <td>3.028725e-11</td>\n",
       "      <td>3.813073e-10</td>\n",
       "      <td>7.705055e-11</td>\n",
       "      <td>0.001054</td>\n",
       "      <td>3.378317e-14</td>\n",
       "      <td>1.994765</td>\n",
       "      <td>0.000062</td>\n",
       "      <td>0.011504</td>\n",
       "      <td>6.109397e-08</td>\n",
       "      <td>97.919449</td>\n",
       "    </tr>\n",
       "    <tr>\n",
       "      <th>7529</th>\n",
       "      <td>18844</td>\n",
       "      <td>1.558952</td>\n",
       "      <td>1.091283e-02</td>\n",
       "      <td>1.829315e-01</td>\n",
       "      <td>0.139604</td>\n",
       "      <td>1.277898e-02</td>\n",
       "      <td>1.383526e-02</td>\n",
       "      <td>1.433770e+00</td>\n",
       "      <td>4.778287e-01</td>\n",
       "      <td>9.446079e-02</td>\n",
       "      <td>...</td>\n",
       "      <td>6.578710e+00</td>\n",
       "      <td>8.549726e-02</td>\n",
       "      <td>9.955624e-03</td>\n",
       "      <td>0.704377</td>\n",
       "      <td>4.155052e-03</td>\n",
       "      <td>59.340645</td>\n",
       "      <td>0.090040</td>\n",
       "      <td>3.669384</td>\n",
       "      <td>2.120571e+00</td>\n",
       "      <td>2.174082</td>\n",
       "    </tr>\n",
       "    <tr>\n",
       "      <th>7530</th>\n",
       "      <td>18845</td>\n",
       "      <td>80.771736</td>\n",
       "      <td>4.977025e-04</td>\n",
       "      <td>2.676559e-02</td>\n",
       "      <td>2.634928</td>\n",
       "      <td>1.218719e-04</td>\n",
       "      <td>8.798768e-02</td>\n",
       "      <td>2.824056e-04</td>\n",
       "      <td>1.544070e-05</td>\n",
       "      <td>2.425346e-07</td>\n",
       "      <td>...</td>\n",
       "      <td>1.132728e-03</td>\n",
       "      <td>2.052927e-02</td>\n",
       "      <td>2.471665e-05</td>\n",
       "      <td>0.004359</td>\n",
       "      <td>2.849137e-05</td>\n",
       "      <td>1.293925</td>\n",
       "      <td>0.135047</td>\n",
       "      <td>0.038468</td>\n",
       "      <td>6.935531e-04</td>\n",
       "      <td>14.983442</td>\n",
       "    </tr>\n",
       "    <tr>\n",
       "      <th>7531</th>\n",
       "      <td>18846</td>\n",
       "      <td>0.273141</td>\n",
       "      <td>5.975414e-12</td>\n",
       "      <td>2.595806e-10</td>\n",
       "      <td>0.012923</td>\n",
       "      <td>5.867243e-08</td>\n",
       "      <td>2.947557e-08</td>\n",
       "      <td>2.871913e-11</td>\n",
       "      <td>1.741412e-10</td>\n",
       "      <td>2.547742e-16</td>\n",
       "      <td>...</td>\n",
       "      <td>1.885612e-13</td>\n",
       "      <td>4.697513e-09</td>\n",
       "      <td>7.133137e-11</td>\n",
       "      <td>0.000556</td>\n",
       "      <td>3.518840e-12</td>\n",
       "      <td>0.002734</td>\n",
       "      <td>0.006987</td>\n",
       "      <td>0.000973</td>\n",
       "      <td>1.088457e-08</td>\n",
       "      <td>99.702682</td>\n",
       "    </tr>\n",
       "  </tbody>\n",
       "</table>\n",
       "<p>5 rows × 21 columns</p>\n",
       "</div>"
      ],
      "text/plain": [
       "      doc_id  alt.atheism  comp.graphics  comp.os.ms-windows.misc  \\\n",
       "7527   18842     3.438458   2.032471e-09             8.495425e-08   \n",
       "7528   18843     0.067796   2.052532e-12             8.444357e-10   \n",
       "7529   18844     1.558952   1.091283e-02             1.829315e-01   \n",
       "7530   18845    80.771736   4.977025e-04             2.676559e-02   \n",
       "7531   18846     0.273141   5.975414e-12             2.595806e-10   \n",
       "\n",
       "      comp.sys.ibm.pc.hardware  comp.sys.mac.hardware  comp.windows.x  \\\n",
       "7527                  0.016708           6.937497e-07    5.334620e-06   \n",
       "7528                  0.005366           1.099286e-07    6.185593e-10   \n",
       "7529                  0.139604           1.277898e-02    1.383526e-02   \n",
       "7530                  2.634928           1.218719e-04    8.798768e-02   \n",
       "7531                  0.012923           5.867243e-08    2.947557e-08   \n",
       "\n",
       "      misc.forsale     rec.autos  rec.motorcycles         ...          \\\n",
       "7527  1.273461e-08  4.048496e-08     5.119310e-12         ...           \n",
       "7528  8.167979e-09  4.192185e-08     8.893990e-15         ...           \n",
       "7529  1.433770e+00  4.778287e-01     9.446079e-02         ...           \n",
       "7530  2.824056e-04  1.544070e-05     2.425346e-07         ...           \n",
       "7531  2.871913e-11  1.741412e-10     2.547742e-16         ...           \n",
       "\n",
       "      rec.sport.hockey     sci.crypt  sci.electronics   sci.med     sci.space  \\\n",
       "7527      4.449794e-09  4.771891e-06     7.489978e-09  0.004088  6.168743e-09   \n",
       "7528      3.028725e-11  3.813073e-10     7.705055e-11  0.001054  3.378317e-14   \n",
       "7529      6.578710e+00  8.549726e-02     9.955624e-03  0.704377  4.155052e-03   \n",
       "7530      1.132728e-03  2.052927e-02     2.471665e-05  0.004359  2.849137e-05   \n",
       "7531      1.885612e-13  4.697513e-09     7.133137e-11  0.000556  3.518840e-12   \n",
       "\n",
       "      soc.religion.christian  talk.politics.guns  talk.politics.mideast  \\\n",
       "7527                0.085753            0.132536               0.107608   \n",
       "7528                1.994765            0.000062               0.011504   \n",
       "7529               59.340645            0.090040               3.669384   \n",
       "7530                1.293925            0.135047               0.038468   \n",
       "7531                0.002734            0.006987               0.000973   \n",
       "\n",
       "      talk.politics.misc  talk.religion.misc  \n",
       "7527        1.805049e-05           96.214813  \n",
       "7528        6.109397e-08           97.919449  \n",
       "7529        2.120571e+00            2.174082  \n",
       "7530        6.935531e-04           14.983442  \n",
       "7531        1.088457e-08           99.702682  \n",
       "\n",
       "[5 rows x 21 columns]"
      ]
     },
     "execution_count": 45,
     "metadata": {
      "tags": []
     },
     "output_type": "execute_result"
    }
   ],
   "source": [
    "submit.tail()"
   ]
  },
  {
   "cell_type": "code",
   "execution_count": 0,
   "metadata": {
    "colab": {},
    "colab_type": "code",
    "id": "4NcjtRedasTP"
   },
   "outputs": [],
   "source": [
    "submit.to_csv(\"we_are_done.csv\")"
   ]
  },
  {
   "cell_type": "markdown",
   "metadata": {
    "colab_type": "text",
    "id": "PmfuGJ2PasTV"
   },
   "source": [
    "**Potential improvements to current approach**\n",
    "\n",
    "Sentence level embeddings instead of word level (sent2vec)\n",
    "\n",
    "Hyperparameter tuning for better regularization: Dropout precentage, l2 regularization parameter\n",
    "\n",
    "More comprehensive preprocessing. The vocab size was 126k which is much too large, indicating the stemmer wasn't stemming very well.\n",
    "\n",
    "Use text frequency inverse document frequency (tfidf) to reduce vocab size.\n",
    "\n",
    "Use word-piece or character-level instead of word level like https://arxiv.org/abs/1609.03777 for example.\n",
    "\n",
    "** Alternative approaches **\n",
    "CNN > RNN (with attention) > softmax:\n",
    "https://github.com/LuketheDukeBates/CNN-RNN-Text-Classifier/blob/master/Text%20classification%20CNN%20%26%20RNN%20hybrid%20network%20with%20word%20embeddings.ipynb\n",
    "\n",
    "Pure CNNs > softmax\n",
    "\n",
    "Pure RNNs > softmax\n",
    "\n",
    "bag of words count vectorizer (BoW) > tfidf >  single value decomposition (SVD) > support vector machine (SVM) (no neural network)\n",
    "\n",
    "**Production**\n",
    "\n",
    "Once the model has been optimized, pickle the model to store it and retrieve it in its original state.\n",
    "\n",
    "If necessary, use JSON to store data\n",
    "\n",
    "Use  Flask, Django, Falcon, Hug, etc for web-based application\n",
    "\n",
    "Create API\n",
    "\n",
    "Deploy API perhaps using virtual machine"
   ]
  }
 ],
 "metadata": {
  "accelerator": "GPU",
  "colab": {
   "name": "Text_classification.ipynb",
   "provenance": [],
   "version": "0.3.2"
  },
  "kernelspec": {
   "display_name": "Python 3",
   "language": "python",
   "name": "python3"
  },
  "language_info": {
   "codemirror_mode": {
    "name": "ipython",
    "version": 3
   },
   "file_extension": ".py",
   "mimetype": "text/x-python",
   "name": "python",
   "nbconvert_exporter": "python",
   "pygments_lexer": "ipython3",
   "version": "3.6.6"
  }
 },
 "nbformat": 4,
 "nbformat_minor": 1
}
